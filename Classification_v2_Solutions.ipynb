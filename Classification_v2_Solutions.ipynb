{
  "cells": [
    {
      "cell_type": "markdown",
      "metadata": {
        "id": "VuX4Tmgp0MZE"
      },
      "source": [
        "# Data inputs and Display Libraries\n",
        "\n"
      ]
    },
    {
      "cell_type": "code",
      "execution_count": null,
      "metadata": {
        "id": "9bJmiGN30MZM"
      },
      "outputs": [],
      "source": [
        "\n",
        "import pandas as pd\n",
        "import numpy as np\n",
        "\n",
        "pd.set_option('display.float_format', lambda x: '%.5f' % x)\n",
        "from IPython.core.interactiveshell import InteractiveShell\n",
        "InteractiveShell.ast_node_interactivity = 'all'\n"
      ]
    },
    {
      "cell_type": "code",
      "execution_count": null,
      "metadata": {
        "colab": {
          "base_uri": "https://localhost:8080/"
        },
        "id": "sEWZSOQa6sip",
        "outputId": "8150a971-54c4-4d9a-ef2f-df96900875ee"
      },
      "outputs": [
        {
          "output_type": "stream",
          "name": "stdout",
          "text": [
            "Collecting sweetviz\n",
            "  Downloading sweetviz-2.1.3-py3-none-any.whl (15.1 MB)\n",
            "\u001b[K     |████████████████████████████████| 15.1 MB 5.5 MB/s \n",
            "\u001b[?25hRequirement already satisfied: importlib-resources>=1.2.0 in /usr/local/lib/python3.7/dist-packages (from sweetviz) (5.4.0)\n",
            "Requirement already satisfied: tqdm>=4.43.0 in /usr/local/lib/python3.7/dist-packages (from sweetviz) (4.62.3)\n",
            "Requirement already satisfied: numpy>=1.16.0 in /usr/local/lib/python3.7/dist-packages (from sweetviz) (1.21.5)\n",
            "Requirement already satisfied: jinja2>=2.11.1 in /usr/local/lib/python3.7/dist-packages (from sweetviz) (2.11.3)\n",
            "Requirement already satisfied: matplotlib>=3.1.3 in /usr/local/lib/python3.7/dist-packages (from sweetviz) (3.2.2)\n",
            "Requirement already satisfied: pandas!=1.0.0,!=1.0.1,!=1.0.2,>=0.25.3 in /usr/local/lib/python3.7/dist-packages (from sweetviz) (1.3.5)\n",
            "Requirement already satisfied: scipy>=1.3.2 in /usr/local/lib/python3.7/dist-packages (from sweetviz) (1.4.1)\n",
            "Requirement already satisfied: zipp>=3.1.0 in /usr/local/lib/python3.7/dist-packages (from importlib-resources>=1.2.0->sweetviz) (3.7.0)\n",
            "Requirement already satisfied: MarkupSafe>=0.23 in /usr/local/lib/python3.7/dist-packages (from jinja2>=2.11.1->sweetviz) (2.0.1)\n",
            "Requirement already satisfied: kiwisolver>=1.0.1 in /usr/local/lib/python3.7/dist-packages (from matplotlib>=3.1.3->sweetviz) (1.3.2)\n",
            "Requirement already satisfied: cycler>=0.10 in /usr/local/lib/python3.7/dist-packages (from matplotlib>=3.1.3->sweetviz) (0.11.0)\n",
            "Requirement already satisfied: pyparsing!=2.0.4,!=2.1.2,!=2.1.6,>=2.0.1 in /usr/local/lib/python3.7/dist-packages (from matplotlib>=3.1.3->sweetviz) (3.0.7)\n",
            "Requirement already satisfied: python-dateutil>=2.1 in /usr/local/lib/python3.7/dist-packages (from matplotlib>=3.1.3->sweetviz) (2.8.2)\n",
            "Requirement already satisfied: pytz>=2017.3 in /usr/local/lib/python3.7/dist-packages (from pandas!=1.0.0,!=1.0.1,!=1.0.2,>=0.25.3->sweetviz) (2018.9)\n",
            "Requirement already satisfied: six>=1.5 in /usr/local/lib/python3.7/dist-packages (from python-dateutil>=2.1->matplotlib>=3.1.3->sweetviz) (1.15.0)\n",
            "Installing collected packages: sweetviz\n",
            "Successfully installed sweetviz-2.1.3\n",
            "Collecting shap\n",
            "  Downloading shap-0.40.0-cp37-cp37m-manylinux2010_x86_64.whl (564 kB)\n",
            "\u001b[K     |████████████████████████████████| 564 kB 5.2 MB/s \n",
            "\u001b[?25hRequirement already satisfied: tqdm>4.25.0 in /usr/local/lib/python3.7/dist-packages (from shap) (4.62.3)\n",
            "Requirement already satisfied: packaging>20.9 in /usr/local/lib/python3.7/dist-packages (from shap) (21.3)\n",
            "Requirement already satisfied: scikit-learn in /usr/local/lib/python3.7/dist-packages (from shap) (1.0.2)\n",
            "Requirement already satisfied: pandas in /usr/local/lib/python3.7/dist-packages (from shap) (1.3.5)\n",
            "Requirement already satisfied: scipy in /usr/local/lib/python3.7/dist-packages (from shap) (1.4.1)\n",
            "Requirement already satisfied: cloudpickle in /usr/local/lib/python3.7/dist-packages (from shap) (1.3.0)\n",
            "Collecting slicer==0.0.7\n",
            "  Downloading slicer-0.0.7-py3-none-any.whl (14 kB)\n",
            "Requirement already satisfied: numba in /usr/local/lib/python3.7/dist-packages (from shap) (0.51.2)\n",
            "Requirement already satisfied: numpy in /usr/local/lib/python3.7/dist-packages (from shap) (1.21.5)\n",
            "Requirement already satisfied: pyparsing!=3.0.5,>=2.0.2 in /usr/local/lib/python3.7/dist-packages (from packaging>20.9->shap) (3.0.7)\n",
            "Requirement already satisfied: llvmlite<0.35,>=0.34.0.dev0 in /usr/local/lib/python3.7/dist-packages (from numba->shap) (0.34.0)\n",
            "Requirement already satisfied: setuptools in /usr/local/lib/python3.7/dist-packages (from numba->shap) (57.4.0)\n",
            "Requirement already satisfied: python-dateutil>=2.7.3 in /usr/local/lib/python3.7/dist-packages (from pandas->shap) (2.8.2)\n",
            "Requirement already satisfied: pytz>=2017.3 in /usr/local/lib/python3.7/dist-packages (from pandas->shap) (2018.9)\n",
            "Requirement already satisfied: six>=1.5 in /usr/local/lib/python3.7/dist-packages (from python-dateutil>=2.7.3->pandas->shap) (1.15.0)\n",
            "Requirement already satisfied: joblib>=0.11 in /usr/local/lib/python3.7/dist-packages (from scikit-learn->shap) (1.1.0)\n",
            "Requirement already satisfied: threadpoolctl>=2.0.0 in /usr/local/lib/python3.7/dist-packages (from scikit-learn->shap) (3.1.0)\n",
            "Installing collected packages: slicer, shap\n",
            "Successfully installed shap-0.40.0 slicer-0.0.7\n",
            "Collecting unrar\n",
            "  Downloading unrar-0.4-py3-none-any.whl (25 kB)\n",
            "Installing collected packages: unrar\n",
            "Successfully installed unrar-0.4\n"
          ]
        }
      ],
      "source": [
        "#Installing Libraries\n",
        "!pip install sweetviz\n",
        "!pip install shap\n",
        "!pip install unrar"
      ]
    },
    {
      "cell_type": "markdown",
      "metadata": {
        "id": "U8QzNHXF0MZQ"
      },
      "source": [
        "# EDA Libraries"
      ]
    },
    {
      "cell_type": "code",
      "execution_count": null,
      "metadata": {
        "id": "m7XAkvTG0MZR"
      },
      "outputs": [],
      "source": [
        "import sweetviz as sv\n",
        "#!pip install sweetviz"
      ]
    },
    {
      "cell_type": "markdown",
      "metadata": {
        "id": "xJvtYXmD0MZS"
      },
      "source": [
        "# Data Preprocessing Libraries"
      ]
    },
    {
      "cell_type": "code",
      "execution_count": null,
      "metadata": {
        "id": "XOpf65rB0MZT"
      },
      "outputs": [],
      "source": [
        "from sklearn.impute import SimpleImputer\n",
        "from sklearn.preprocessing import OneHotEncoder\n",
        "from sklearn import preprocessing\n",
        "from sklearn.preprocessing import OrdinalEncoder\n"
      ]
    },
    {
      "cell_type": "markdown",
      "metadata": {
        "id": "mSvzntbp0MZV"
      },
      "source": [
        "# Feature Selection & Modelling Libraries"
      ]
    },
    {
      "cell_type": "code",
      "execution_count": null,
      "metadata": {
        "id": "BEvvp_tN0MZW"
      },
      "outputs": [],
      "source": [
        "from sklearn.model_selection import train_test_split\n",
        "from sklearn.feature_selection import SelectPercentile, f_classif\n",
        "from sklearn.linear_model import LogisticRegression\n",
        "from sklearn.ensemble import RandomForestClassifier\n",
        "from xgboost import XGBClassifier\n",
        "import pickle"
      ]
    },
    {
      "cell_type": "markdown",
      "metadata": {
        "id": "VLPJz6xc0MZY"
      },
      "source": [
        "# Metrics Libraries"
      ]
    },
    {
      "cell_type": "code",
      "execution_count": null,
      "metadata": {
        "id": "lEg3sIlk0MZa"
      },
      "outputs": [],
      "source": [
        "from sklearn.metrics import accuracy_score\n",
        "from sklearn.metrics import confusion_matrix,ConfusionMatrixDisplay\n",
        "from sklearn.metrics import roc_curve\n",
        "from sklearn.metrics import auc\n",
        "from sklearn.metrics import f1_score\n",
        "from matplotlib import pyplot\n",
        "import matplotlib.pyplot as plt\n",
        "from sklearn.metrics import average_precision_score\n",
        "from sklearn.metrics import precision_recall_curve\n"
      ]
    },
    {
      "cell_type": "markdown",
      "metadata": {
        "id": "2u3VnhjW0MZd"
      },
      "source": [
        "### Model Explanantion"
      ]
    },
    {
      "cell_type": "code",
      "execution_count": null,
      "metadata": {
        "id": "6ztarMhL0MZe"
      },
      "outputs": [],
      "source": [
        "import shap"
      ]
    },
    {
      "cell_type": "code",
      "execution_count": null,
      "metadata": {
        "colab": {
          "base_uri": "https://localhost:8080/"
        },
        "id": "QSBIEOu59j3u",
        "outputId": "87d9268d-dfd6-4b5f-e8ff-36cafb30fbc1"
      },
      "outputs": [
        {
          "output_type": "stream",
          "name": "stdout",
          "text": [
            "Cloning into 'Classificationworkshop'...\n",
            "remote: Enumerating objects: 18, done.\u001b[K\n",
            "remote: Counting objects: 100% (18/18), done.\u001b[K\n",
            "remote: Compressing objects: 100% (12/12), done.\u001b[K\n",
            "remote: Total 18 (delta 1), reused 0 (delta 0), pack-reused 0\u001b[K\n",
            "Unpacking objects: 100% (18/18), done.\n"
          ]
        }
      ],
      "source": [
        "!git clone https://github.com/univai-ghf/Classificationworkshop"
      ]
    },
    {
      "cell_type": "code",
      "execution_count": null,
      "metadata": {
        "colab": {
          "base_uri": "https://localhost:8080/"
        },
        "id": "ZcsbVaQE954l",
        "outputId": "0be6c91b-64eb-47dd-be87-2756411bfd8e"
      },
      "outputs": [
        {
          "output_type": "stream",
          "name": "stdout",
          "text": [
            "\n",
            "UNRAR 5.50 freeware      Copyright (c) 1993-2017 Alexander Roshal\n",
            "\n",
            "\n",
            "Extracting from Classificationworkshop/prep_file.rar\n",
            "\n",
            "Extracting  Classificationworkshop/prep_file.csv                         \b\b\b\b  3%\b\b\b\b  6%\b\b\b\b 10%\b\b\b\b 13%\b\b\b\b 17%\b\b\b\b 20%\b\b\b\b 24%\b\b\b\b 27%\b\b\b\b 30%\b\b\b\b 34%\b\b\b\b 37%\b\b\b\b 41%\b\b\b\b 44%\b\b\b\b 48%\b\b\b\b 51%\b\b\b\b 54%\b\b\b\b 58%\b\b\b\b 61%\b\b\b\b 65%\b\b\b\b 68%\b\b\b\b 72%\b\b\b\b 75%\b\b\b\b 78%\b\b\b\b 82%\b\b\b\b 85%\b\b\b\b 89%\b\b\b\b 92%\b\b\b\b 96%\b\b\b\b 99%\b\b\b\b\b  OK \n",
            "All OK\n"
          ]
        }
      ],
      "source": [
        "#! unzip -q 'workshop_classification/prep_file.rar' -d 'workshop_classification/prep_file.csv'\n",
        "!unrar x 'Classificationworkshop/prep_file.rar'  'Classificationworkshop'"
      ]
    },
    {
      "cell_type": "code",
      "source": [
        "### Run till here"
      ],
      "metadata": {
        "id": "epqzGGEDKjc8"
      },
      "execution_count": null,
      "outputs": []
    },
    {
      "cell_type": "code",
      "execution_count": null,
      "metadata": {
        "id": "X8UPEaJM0MZl"
      },
      "outputs": [],
      "source": [
        "t1 = pd.read_csv(\"Classificationworkshop/prep_file.csv\",sep=\",\")"
      ]
    },
    {
      "cell_type": "markdown",
      "metadata": {
        "id": "RGRhQqws0MZn"
      },
      "source": [
        "# Step 1-  Look at the data"
      ]
    },
    {
      "cell_type": "code",
      "execution_count": null,
      "metadata": {
        "colab": {
          "base_uri": "https://localhost:8080/",
          "height": 305
        },
        "id": "nCAFufZ-0MZp",
        "outputId": "b3f06c19-eca7-4a7b-bb9f-9765c25433b1"
      },
      "outputs": [
        {
          "output_type": "execute_result",
          "data": {
            "text/html": [
              "\n",
              "  <div id=\"df-30550867-2963-41d2-b7bd-cf01dd0094d2\">\n",
              "    <div class=\"colab-df-container\">\n",
              "      <div>\n",
              "<style scoped>\n",
              "    .dataframe tbody tr th:only-of-type {\n",
              "        vertical-align: middle;\n",
              "    }\n",
              "\n",
              "    .dataframe tbody tr th {\n",
              "        vertical-align: top;\n",
              "    }\n",
              "\n",
              "    .dataframe thead th {\n",
              "        text-align: right;\n",
              "    }\n",
              "</style>\n",
              "<table border=\"1\" class=\"dataframe\">\n",
              "  <thead>\n",
              "    <tr style=\"text-align: right;\">\n",
              "      <th></th>\n",
              "      <th>Unnamed: 0</th>\n",
              "      <th>income</th>\n",
              "      <th>age</th>\n",
              "      <th>experience</th>\n",
              "      <th>bureau_score</th>\n",
              "      <th>married</th>\n",
              "      <th>house_ownership</th>\n",
              "      <th>car_ownership</th>\n",
              "      <th>risk_flag</th>\n",
              "      <th>profession</th>\n",
              "      <th>city</th>\n",
              "      <th>state</th>\n",
              "      <th>current_job_years</th>\n",
              "      <th>current_house_years</th>\n",
              "      <th>device</th>\n",
              "    </tr>\n",
              "  </thead>\n",
              "  <tbody>\n",
              "    <tr>\n",
              "      <th>0</th>\n",
              "      <td>19607</td>\n",
              "      <td>2514921</td>\n",
              "      <td>31.00000</td>\n",
              "      <td>4.00000</td>\n",
              "      <td>651.00000</td>\n",
              "      <td>single</td>\n",
              "      <td>rented</td>\n",
              "      <td>no</td>\n",
              "      <td>0</td>\n",
              "      <td>Psychologist</td>\n",
              "      <td>Chandrapur</td>\n",
              "      <td>Maharashtra</td>\n",
              "      <td>4.00000</td>\n",
              "      <td>14.00000</td>\n",
              "      <td>Oppo</td>\n",
              "    </tr>\n",
              "    <tr>\n",
              "      <th>1</th>\n",
              "      <td>75516</td>\n",
              "      <td>7047674</td>\n",
              "      <td>28.00000</td>\n",
              "      <td>4.00000</td>\n",
              "      <td>526.00000</td>\n",
              "      <td>single</td>\n",
              "      <td>rented</td>\n",
              "      <td>yes</td>\n",
              "      <td>0</td>\n",
              "      <td>Economist</td>\n",
              "      <td>Ramagundam[27]</td>\n",
              "      <td>Telangana</td>\n",
              "      <td>3.00000</td>\n",
              "      <td>13.00000</td>\n",
              "      <td>Xiaomi</td>\n",
              "    </tr>\n",
              "    <tr>\n",
              "      <th>2</th>\n",
              "      <td>63804</td>\n",
              "      <td>2749317</td>\n",
              "      <td>30.00000</td>\n",
              "      <td>2.00000</td>\n",
              "      <td>526.00000</td>\n",
              "      <td>single</td>\n",
              "      <td>rented</td>\n",
              "      <td>no</td>\n",
              "      <td>0</td>\n",
              "      <td>Secretary</td>\n",
              "      <td>Ramagundam[27]</td>\n",
              "      <td>Telangana</td>\n",
              "      <td>2.00000</td>\n",
              "      <td>14.00000</td>\n",
              "      <td>samsung</td>\n",
              "    </tr>\n",
              "    <tr>\n",
              "      <th>3</th>\n",
              "      <td>63676</td>\n",
              "      <td>7378274</td>\n",
              "      <td>24.00000</td>\n",
              "      <td>0.00000</td>\n",
              "      <td>764.00000</td>\n",
              "      <td>single</td>\n",
              "      <td>rented</td>\n",
              "      <td>no</td>\n",
              "      <td>0</td>\n",
              "      <td>Flight attendant</td>\n",
              "      <td>Adoni</td>\n",
              "      <td>Andhra Pradesh</td>\n",
              "      <td>0.00000</td>\n",
              "      <td>11.00000</td>\n",
              "      <td>samsung</td>\n",
              "    </tr>\n",
              "    <tr>\n",
              "      <th>4</th>\n",
              "      <td>50914</td>\n",
              "      <td>9574585</td>\n",
              "      <td>27.00000</td>\n",
              "      <td>5.00000</td>\n",
              "      <td>739.00000</td>\n",
              "      <td>single</td>\n",
              "      <td>rented</td>\n",
              "      <td>yes</td>\n",
              "      <td>0</td>\n",
              "      <td>Technician</td>\n",
              "      <td>Imphal</td>\n",
              "      <td>Manipur</td>\n",
              "      <td>5.00000</td>\n",
              "      <td>10.00000</td>\n",
              "      <td>Vivo</td>\n",
              "    </tr>\n",
              "  </tbody>\n",
              "</table>\n",
              "</div>\n",
              "      <button class=\"colab-df-convert\" onclick=\"convertToInteractive('df-30550867-2963-41d2-b7bd-cf01dd0094d2')\"\n",
              "              title=\"Convert this dataframe to an interactive table.\"\n",
              "              style=\"display:none;\">\n",
              "        \n",
              "  <svg xmlns=\"http://www.w3.org/2000/svg\" height=\"24px\"viewBox=\"0 0 24 24\"\n",
              "       width=\"24px\">\n",
              "    <path d=\"M0 0h24v24H0V0z\" fill=\"none\"/>\n",
              "    <path d=\"M18.56 5.44l.94 2.06.94-2.06 2.06-.94-2.06-.94-.94-2.06-.94 2.06-2.06.94zm-11 1L8.5 8.5l.94-2.06 2.06-.94-2.06-.94L8.5 2.5l-.94 2.06-2.06.94zm10 10l.94 2.06.94-2.06 2.06-.94-2.06-.94-.94-2.06-.94 2.06-2.06.94z\"/><path d=\"M17.41 7.96l-1.37-1.37c-.4-.4-.92-.59-1.43-.59-.52 0-1.04.2-1.43.59L10.3 9.45l-7.72 7.72c-.78.78-.78 2.05 0 2.83L4 21.41c.39.39.9.59 1.41.59.51 0 1.02-.2 1.41-.59l7.78-7.78 2.81-2.81c.8-.78.8-2.07 0-2.86zM5.41 20L4 18.59l7.72-7.72 1.47 1.35L5.41 20z\"/>\n",
              "  </svg>\n",
              "      </button>\n",
              "      \n",
              "  <style>\n",
              "    .colab-df-container {\n",
              "      display:flex;\n",
              "      flex-wrap:wrap;\n",
              "      gap: 12px;\n",
              "    }\n",
              "\n",
              "    .colab-df-convert {\n",
              "      background-color: #E8F0FE;\n",
              "      border: none;\n",
              "      border-radius: 50%;\n",
              "      cursor: pointer;\n",
              "      display: none;\n",
              "      fill: #1967D2;\n",
              "      height: 32px;\n",
              "      padding: 0 0 0 0;\n",
              "      width: 32px;\n",
              "    }\n",
              "\n",
              "    .colab-df-convert:hover {\n",
              "      background-color: #E2EBFA;\n",
              "      box-shadow: 0px 1px 2px rgba(60, 64, 67, 0.3), 0px 1px 3px 1px rgba(60, 64, 67, 0.15);\n",
              "      fill: #174EA6;\n",
              "    }\n",
              "\n",
              "    [theme=dark] .colab-df-convert {\n",
              "      background-color: #3B4455;\n",
              "      fill: #D2E3FC;\n",
              "    }\n",
              "\n",
              "    [theme=dark] .colab-df-convert:hover {\n",
              "      background-color: #434B5C;\n",
              "      box-shadow: 0px 1px 3px 1px rgba(0, 0, 0, 0.15);\n",
              "      filter: drop-shadow(0px 1px 2px rgba(0, 0, 0, 0.3));\n",
              "      fill: #FFFFFF;\n",
              "    }\n",
              "  </style>\n",
              "\n",
              "      <script>\n",
              "        const buttonEl =\n",
              "          document.querySelector('#df-30550867-2963-41d2-b7bd-cf01dd0094d2 button.colab-df-convert');\n",
              "        buttonEl.style.display =\n",
              "          google.colab.kernel.accessAllowed ? 'block' : 'none';\n",
              "\n",
              "        async function convertToInteractive(key) {\n",
              "          const element = document.querySelector('#df-30550867-2963-41d2-b7bd-cf01dd0094d2');\n",
              "          const dataTable =\n",
              "            await google.colab.kernel.invokeFunction('convertToInteractive',\n",
              "                                                     [key], {});\n",
              "          if (!dataTable) return;\n",
              "\n",
              "          const docLinkHtml = 'Like what you see? Visit the ' +\n",
              "            '<a target=\"_blank\" href=https://colab.research.google.com/notebooks/data_table.ipynb>data table notebook</a>'\n",
              "            + ' to learn more about interactive tables.';\n",
              "          element.innerHTML = '';\n",
              "          dataTable['output_type'] = 'display_data';\n",
              "          await google.colab.output.renderOutput(dataTable, element);\n",
              "          const docLink = document.createElement('div');\n",
              "          docLink.innerHTML = docLinkHtml;\n",
              "          element.appendChild(docLink);\n",
              "        }\n",
              "      </script>\n",
              "    </div>\n",
              "  </div>\n",
              "  "
            ],
            "text/plain": [
              "   Unnamed: 0   income  ...  current_house_years   device\n",
              "0       19607  2514921  ...             14.00000     Oppo\n",
              "1       75516  7047674  ...             13.00000  Xiaomi \n",
              "2       63804  2749317  ...             14.00000  samsung\n",
              "3       63676  7378274  ...             11.00000  samsung\n",
              "4       50914  9574585  ...             10.00000     Vivo\n",
              "\n",
              "[5 rows x 15 columns]"
            ]
          },
          "metadata": {},
          "execution_count": 12
        }
      ],
      "source": [
        "t1.head()"
      ]
    },
    {
      "cell_type": "code",
      "execution_count": null,
      "metadata": {
        "id": "qWg4xbf00MZz"
      },
      "outputs": [],
      "source": [
        " #![](./presentation/Capture1.png)\n"
      ]
    },
    {
      "cell_type": "markdown",
      "metadata": {
        "id": "462frsv50MZ2"
      },
      "source": [
        "# Look at data - now to get the target variable distribution"
      ]
    },
    {
      "cell_type": "code",
      "execution_count": null,
      "metadata": {
        "colab": {
          "base_uri": "https://localhost:8080/"
        },
        "id": "gytLI6zK0MZ3",
        "outputId": "9b68dd28-e0dc-49e6-a4d3-0ef9f1430f3a"
      },
      "outputs": [
        {
          "output_type": "execute_result",
          "data": {
            "text/plain": [
              "0    236567\n",
              "1     43433\n",
              "Name: risk_flag, dtype: int64"
            ]
          },
          "metadata": {},
          "execution_count": 14
        }
      ],
      "source": [
        "t1[\"risk_flag\"].value_counts()"
      ]
    },
    {
      "cell_type": "code",
      "execution_count": null,
      "metadata": {
        "colab": {
          "base_uri": "https://localhost:8080/"
        },
        "id": "BFKelz7K0MZ4",
        "outputId": "c0c71d47-67fd-4d5f-9e93-471414de3bc1"
      },
      "outputs": [
        {
          "output_type": "execute_result",
          "data": {
            "text/plain": [
              "0   0.84488\n",
              "1   0.15512\n",
              "Name: risk_flag, dtype: float64"
            ]
          },
          "metadata": {},
          "execution_count": 15
        }
      ],
      "source": [
        "t1[\"risk_flag\"].value_counts(normalize=True)"
      ]
    },
    {
      "cell_type": "markdown",
      "metadata": {
        "id": "KtI1C1dJ0MZ5"
      },
      "source": [
        "# Look at data - listing string and numeric columns"
      ]
    },
    {
      "cell_type": "code",
      "execution_count": null,
      "metadata": {
        "id": "8E7V58uE0MZ6"
      },
      "outputs": [],
      "source": [
        "str_col_name_df = pd.read_csv(\"Classificationworkshop/str_cols.csv\")\n",
        "str_col_name_df.columns = [\"index\",\"col_name\"]\n",
        "str_col_name_list =list(str_col_name_df[\"col_name\"])\n",
        "\n",
        "num_col_name_df = pd.read_csv(\"Classificationworkshop/num_cols.csv\")\n",
        "num_col_name_df.columns = [\"index\",\"col_name\"]\n",
        "num_col_name_df=num_col_name_df.reset_index()\n",
        "num_col_name_list = list(num_col_name_df[\"col_name\"])"
      ]
    },
    {
      "cell_type": "code",
      "execution_count": null,
      "metadata": {
        "colab": {
          "base_uri": "https://localhost:8080/"
        },
        "id": "YvTTjKF80MZ7",
        "outputId": "324c2cc5-c88a-438b-8ea9-8832a2361bf5"
      },
      "outputs": [
        {
          "output_type": "stream",
          "name": "stdout",
          "text": [
            "['profession', 'married', 'house_ownership', 'car_ownership', 'city', 'state']\n",
            "['income', 'age', 'experience', 'current_job_years', 'current_house_years', 'bureau_score']\n"
          ]
        }
      ],
      "source": [
        "print (str_col_name_list)\n",
        "print (num_col_name_list)"
      ]
    },
    {
      "cell_type": "code",
      "execution_count": null,
      "metadata": {
        "id": "8TWi2WUg0MZ7"
      },
      "outputs": [],
      "source": [
        "####Back to Slide"
      ]
    },
    {
      "cell_type": "markdown",
      "metadata": {
        "id": "EIXHKBmB0MZ9"
      },
      "source": [
        "# EDA"
      ]
    },
    {
      "cell_type": "code",
      "execution_count": null,
      "metadata": {
        "colab": {
          "base_uri": "https://localhost:8080/",
          "height": 49,
          "referenced_widgets": [
            "27e3168a11c74f31a381fa0b2cff40f7",
            "03dd661314d34c83a21f244e99b263a7",
            "8c1cb984bf4a44cfb045ac16b9f5f6a1",
            "8705408b69564d598c81d166a7cf6687",
            "b2f0bc2f683d424280ab940105fa33fc",
            "3f231089ccfc425ca280113f7435c553",
            "cfd6e0b0755646ffab0a3ffdb19f1ef5",
            "f37f137ba9b947d0a49f5e702a2376f0",
            "85c3291aca3c488f941db3f2bb286c69",
            "4a48636b228a4309906f11879ccdcd33",
            "5537fe72cf014eb2b8c5b363f4d2076f"
          ]
        },
        "id": "u8xmqugn0MZ-",
        "outputId": "20d09917-6f88-4393-c56c-ade9633b6668"
      },
      "outputs": [
        {
          "output_type": "display_data",
          "data": {
            "application/vnd.jupyter.widget-view+json": {
              "model_id": "27e3168a11c74f31a381fa0b2cff40f7",
              "version_minor": 0,
              "version_major": 2
            },
            "text/plain": [
              "                                             |          | [  0%]   00:00 -> (? left)"
            ]
          },
          "metadata": {}
        }
      ],
      "source": [
        "sweet_report = sv.analyze([t1,\"full_data\"],target_feat=\"risk_flag\")"
      ]
    },
    {
      "cell_type": "code",
      "execution_count": null,
      "metadata": {
        "colab": {
          "base_uri": "https://localhost:8080/"
        },
        "id": "0DtWKNfr0MZ-",
        "outputId": "21f21766-6bae-49be-bf87-8ee8d3ef8770"
      },
      "outputs": [
        {
          "output_type": "stream",
          "name": "stdout",
          "text": [
            "Report sweet_report.html was generated! NOTEBOOK/COLAB USERS: the web browser MAY not pop up, regardless, the report IS saved in your notebook/colab files.\n"
          ]
        }
      ],
      "source": [
        "sweet_report.show_html('sweet_report.html')"
      ]
    },
    {
      "cell_type": "code",
      "source": [
        "#5 mins to run the code"
      ],
      "metadata": {
        "id": "s7TkzJZUKO6Z"
      },
      "execution_count": null,
      "outputs": []
    },
    {
      "cell_type": "code",
      "execution_count": null,
      "metadata": {
        "id": "WmtnE-M6D7kf",
        "colab": {
          "base_uri": "https://localhost:8080/"
        },
        "outputId": "b0a74522-5b3d-4e94-dbb6-d16e3875fe76"
      },
      "outputs": [
        {
          "output_type": "stream",
          "name": "stderr",
          "text": [
            "The default value of regex will change from True to False in a future version.\n"
          ]
        }
      ],
      "source": [
        "t0 = t1.copy()\n",
        "for i in str_col_name_list:\n",
        "    t1[i] = t1[i].str.lower().str.lstrip().str.rstrip()\n",
        "    t1[i] = t1[i].str.replace(\"[^a-z\\s]+\",\"\")\n"
      ]
    },
    {
      "cell_type": "code",
      "execution_count": null,
      "metadata": {
        "id": "tAyf5Ool0MZ_"
      },
      "outputs": [],
      "source": [
        "####back to slide"
      ]
    },
    {
      "cell_type": "markdown",
      "metadata": {
        "id": "MszhUfbH0MaA"
      },
      "source": [
        "# Train test split\n",
        "### Before we do any preprocessing we want to keep train and test seperate"
      ]
    },
    {
      "cell_type": "code",
      "execution_count": null,
      "metadata": {
        "id": "PvjrT_150MaA"
      },
      "outputs": [],
      "source": [
        "x_train, x_test, y_train, y_test = train_test_split(t1, t1[\"risk_flag\"], test_size=0.33, random_state=42)"
      ]
    },
    {
      "cell_type": "code",
      "execution_count": null,
      "metadata": {
        "id": "UH-aqvxd0MaB"
      },
      "outputs": [],
      "source": [
        "x_train0 = x_train.reset_index()\n",
        "x_test0 = x_test.reset_index()"
      ]
    },
    {
      "cell_type": "code",
      "execution_count": null,
      "metadata": {
        "colab": {
          "base_uri": "https://localhost:8080/"
        },
        "id": "EbiFI81Z-9oc",
        "outputId": "55b4da43-60ac-4297-e1f8-1499884d501a"
      },
      "outputs": [
        {
          "output_type": "execute_result",
          "data": {
            "text/plain": [
              "((187600, 16), (92400, 16))"
            ]
          },
          "metadata": {},
          "execution_count": 26
        }
      ],
      "source": [
        "x_train0.shape, x_test0.shape"
      ]
    },
    {
      "cell_type": "markdown",
      "source": [
        "#Label encoding string Variables -- baseline categorical approach"
      ],
      "metadata": {
        "id": "WDxrEwWRIfSg"
      }
    },
    {
      "cell_type": "code",
      "source": [
        "\n",
        "\n",
        "enc = OrdinalEncoder()\n",
        "\n",
        "x_train_str= pd.DataFrame(enc.fit_transform(x_train0[str_col_name_list]))\n",
        "x_test_str = pd.DataFrame(enc.transform(x_test0[str_col_name_list]))"
      ],
      "metadata": {
        "id": "KiDmJn_4SrLn"
      },
      "execution_count": null,
      "outputs": []
    },
    {
      "cell_type": "code",
      "source": [
        "viz1 = x_train_str.head()\n",
        "viz1 = viz1.astype(int)\n",
        "viz1.columns = str_col_name_list\n",
        "viz1"
      ],
      "metadata": {
        "colab": {
          "base_uri": "https://localhost:8080/",
          "height": 206
        },
        "id": "zCCvQ2ah6m8M",
        "outputId": "3a8fb24b-6995-49e3-ac05-83926b959251"
      },
      "execution_count": null,
      "outputs": [
        {
          "output_type": "execute_result",
          "data": {
            "text/html": [
              "\n",
              "  <div id=\"df-42739806-d440-46e7-a0b8-63107ba8b098\">\n",
              "    <div class=\"colab-df-container\">\n",
              "      <div>\n",
              "<style scoped>\n",
              "    .dataframe tbody tr th:only-of-type {\n",
              "        vertical-align: middle;\n",
              "    }\n",
              "\n",
              "    .dataframe tbody tr th {\n",
              "        vertical-align: top;\n",
              "    }\n",
              "\n",
              "    .dataframe thead th {\n",
              "        text-align: right;\n",
              "    }\n",
              "</style>\n",
              "<table border=\"1\" class=\"dataframe\">\n",
              "  <thead>\n",
              "    <tr style=\"text-align: right;\">\n",
              "      <th></th>\n",
              "      <th>profession</th>\n",
              "      <th>married</th>\n",
              "      <th>house_ownership</th>\n",
              "      <th>car_ownership</th>\n",
              "      <th>city</th>\n",
              "      <th>state</th>\n",
              "    </tr>\n",
              "  </thead>\n",
              "  <tbody>\n",
              "    <tr>\n",
              "      <th>0</th>\n",
              "      <td>23</td>\n",
              "      <td>1</td>\n",
              "      <td>2</td>\n",
              "      <td>0</td>\n",
              "      <td>94</td>\n",
              "      <td>25</td>\n",
              "    </tr>\n",
              "    <tr>\n",
              "      <th>1</th>\n",
              "      <td>8</td>\n",
              "      <td>1</td>\n",
              "      <td>2</td>\n",
              "      <td>0</td>\n",
              "      <td>219</td>\n",
              "      <td>18</td>\n",
              "    </tr>\n",
              "    <tr>\n",
              "      <th>2</th>\n",
              "      <td>41</td>\n",
              "      <td>1</td>\n",
              "      <td>2</td>\n",
              "      <td>0</td>\n",
              "      <td>131</td>\n",
              "      <td>2</td>\n",
              "    </tr>\n",
              "    <tr>\n",
              "      <th>3</th>\n",
              "      <td>17</td>\n",
              "      <td>1</td>\n",
              "      <td>2</td>\n",
              "      <td>0</td>\n",
              "      <td>52</td>\n",
              "      <td>13</td>\n",
              "    </tr>\n",
              "    <tr>\n",
              "      <th>4</th>\n",
              "      <td>47</td>\n",
              "      <td>0</td>\n",
              "      <td>1</td>\n",
              "      <td>1</td>\n",
              "      <td>14</td>\n",
              "      <td>14</td>\n",
              "    </tr>\n",
              "  </tbody>\n",
              "</table>\n",
              "</div>\n",
              "      <button class=\"colab-df-convert\" onclick=\"convertToInteractive('df-42739806-d440-46e7-a0b8-63107ba8b098')\"\n",
              "              title=\"Convert this dataframe to an interactive table.\"\n",
              "              style=\"display:none;\">\n",
              "        \n",
              "  <svg xmlns=\"http://www.w3.org/2000/svg\" height=\"24px\"viewBox=\"0 0 24 24\"\n",
              "       width=\"24px\">\n",
              "    <path d=\"M0 0h24v24H0V0z\" fill=\"none\"/>\n",
              "    <path d=\"M18.56 5.44l.94 2.06.94-2.06 2.06-.94-2.06-.94-.94-2.06-.94 2.06-2.06.94zm-11 1L8.5 8.5l.94-2.06 2.06-.94-2.06-.94L8.5 2.5l-.94 2.06-2.06.94zm10 10l.94 2.06.94-2.06 2.06-.94-2.06-.94-.94-2.06-.94 2.06-2.06.94z\"/><path d=\"M17.41 7.96l-1.37-1.37c-.4-.4-.92-.59-1.43-.59-.52 0-1.04.2-1.43.59L10.3 9.45l-7.72 7.72c-.78.78-.78 2.05 0 2.83L4 21.41c.39.39.9.59 1.41.59.51 0 1.02-.2 1.41-.59l7.78-7.78 2.81-2.81c.8-.78.8-2.07 0-2.86zM5.41 20L4 18.59l7.72-7.72 1.47 1.35L5.41 20z\"/>\n",
              "  </svg>\n",
              "      </button>\n",
              "      \n",
              "  <style>\n",
              "    .colab-df-container {\n",
              "      display:flex;\n",
              "      flex-wrap:wrap;\n",
              "      gap: 12px;\n",
              "    }\n",
              "\n",
              "    .colab-df-convert {\n",
              "      background-color: #E8F0FE;\n",
              "      border: none;\n",
              "      border-radius: 50%;\n",
              "      cursor: pointer;\n",
              "      display: none;\n",
              "      fill: #1967D2;\n",
              "      height: 32px;\n",
              "      padding: 0 0 0 0;\n",
              "      width: 32px;\n",
              "    }\n",
              "\n",
              "    .colab-df-convert:hover {\n",
              "      background-color: #E2EBFA;\n",
              "      box-shadow: 0px 1px 2px rgba(60, 64, 67, 0.3), 0px 1px 3px 1px rgba(60, 64, 67, 0.15);\n",
              "      fill: #174EA6;\n",
              "    }\n",
              "\n",
              "    [theme=dark] .colab-df-convert {\n",
              "      background-color: #3B4455;\n",
              "      fill: #D2E3FC;\n",
              "    }\n",
              "\n",
              "    [theme=dark] .colab-df-convert:hover {\n",
              "      background-color: #434B5C;\n",
              "      box-shadow: 0px 1px 3px 1px rgba(0, 0, 0, 0.15);\n",
              "      filter: drop-shadow(0px 1px 2px rgba(0, 0, 0, 0.3));\n",
              "      fill: #FFFFFF;\n",
              "    }\n",
              "  </style>\n",
              "\n",
              "      <script>\n",
              "        const buttonEl =\n",
              "          document.querySelector('#df-42739806-d440-46e7-a0b8-63107ba8b098 button.colab-df-convert');\n",
              "        buttonEl.style.display =\n",
              "          google.colab.kernel.accessAllowed ? 'block' : 'none';\n",
              "\n",
              "        async function convertToInteractive(key) {\n",
              "          const element = document.querySelector('#df-42739806-d440-46e7-a0b8-63107ba8b098');\n",
              "          const dataTable =\n",
              "            await google.colab.kernel.invokeFunction('convertToInteractive',\n",
              "                                                     [key], {});\n",
              "          if (!dataTable) return;\n",
              "\n",
              "          const docLinkHtml = 'Like what you see? Visit the ' +\n",
              "            '<a target=\"_blank\" href=https://colab.research.google.com/notebooks/data_table.ipynb>data table notebook</a>'\n",
              "            + ' to learn more about interactive tables.';\n",
              "          element.innerHTML = '';\n",
              "          dataTable['output_type'] = 'display_data';\n",
              "          await google.colab.output.renderOutput(dataTable, element);\n",
              "          const docLink = document.createElement('div');\n",
              "          docLink.innerHTML = docLinkHtml;\n",
              "          element.appendChild(docLink);\n",
              "        }\n",
              "      </script>\n",
              "    </div>\n",
              "  </div>\n",
              "  "
            ],
            "text/plain": [
              "   profession  married  house_ownership  car_ownership  city  state\n",
              "0          23        1                2              0    94     25\n",
              "1           8        1                2              0   219     18\n",
              "2          41        1                2              0   131      2\n",
              "3          17        1                2              0    52     13\n",
              "4          47        0                1              1    14     14"
            ]
          },
          "metadata": {},
          "execution_count": 28
        }
      ]
    },
    {
      "cell_type": "code",
      "source": [
        "x_train_str.shape"
      ],
      "metadata": {
        "colab": {
          "base_uri": "https://localhost:8080/"
        },
        "id": "8AQThQ4u2Wqh",
        "outputId": "00b1bbb3-f5ee-4f28-e37b-72ab0ea7e3eb"
      },
      "execution_count": null,
      "outputs": [
        {
          "output_type": "execute_result",
          "data": {
            "text/plain": [
              "(187600, 6)"
            ]
          },
          "metadata": {},
          "execution_count": 29
        }
      ]
    },
    {
      "cell_type": "code",
      "source": [
        "enc.categories_"
      ],
      "metadata": {
        "colab": {
          "base_uri": "https://localhost:8080/"
        },
        "id": "KwCHBa0H2Kup",
        "outputId": "f6281e23-bb54-4e58-c5da-078fad963711"
      },
      "execution_count": null,
      "outputs": [
        {
          "output_type": "execute_result",
          "data": {
            "text/plain": [
              "[array(['air traffic controller', 'analyst', 'architect', 'army officer',\n",
              "        'artist', 'aviator', 'biomedical engineer', 'chartered accountant',\n",
              "        'chef', 'chemical engineer', 'civil engineer', 'civil servant',\n",
              "        'comedian', 'computer hardware engineer', 'computer operator',\n",
              "        'consultant', 'dentist', 'design engineer', 'designer', 'drafter',\n",
              "        'economist', 'engineer', 'fashion designer', 'financial analyst',\n",
              "        'firefighter', 'flight attendant', 'geologist', 'graphic designer',\n",
              "        'hotel manager', 'industrial engineer', 'lawyer', 'librarian',\n",
              "        'magistrate', 'mechanical engineer', 'microbiologist', 'official',\n",
              "        'petroleum engineer', 'physician', 'police officer', 'politician',\n",
              "        'psychologist', 'scientist', 'secretary', 'software developer',\n",
              "        'statistician', 'surgeon', 'surveyor', 'technical writer',\n",
              "        'technician', 'technology specialist', 'web designer'],\n",
              "       dtype=object),\n",
              " array(['married', 'single'], dtype=object),\n",
              " array(['norentnoown', 'owned', 'rented'], dtype=object),\n",
              " array(['no', 'yes'], dtype=object),\n",
              " array(['adoni', 'agartala', 'agra', 'ahmedabad', 'ahmednagar', 'aizawl',\n",
              "        'ajmer', 'akola', 'alappuzha', 'aligarh', 'allahabad', 'alwar',\n",
              "        'amaravati', 'ambala', 'ambarnath', 'ambattur', 'amravati',\n",
              "        'amritsar', 'amroha', 'anand', 'anantapur', 'anantapuram', 'arrah',\n",
              "        'asansol', 'aurangabad', 'avadi', 'bahraich', 'ballia', 'bally',\n",
              "        'bangalore', 'baranagar', 'barasat', 'bardhaman', 'bareilly',\n",
              "        'bathinda', 'begusarai', 'belgaum', 'bellary', 'berhampore',\n",
              "        'berhampur', 'bettiah', 'bhagalpur', 'bhalswa jahangir pur',\n",
              "        'bharatpur', 'bhatpara', 'bhavnagar', 'bhilai', 'bhilwara',\n",
              "        'bhimavaram', 'bhind', 'bhiwandi', 'bhiwani', 'bhopal',\n",
              "        'bhubaneswar', 'bhusawal', 'bidar', 'bidhannagar', 'bihar sharif',\n",
              "        'bijapur', 'bikaner', 'bilaspur', 'bokaro', 'bongaigaon',\n",
              "        'bulandshahr', 'burhanpur', 'buxar', 'chandigarhcity',\n",
              "        'chandrapur', 'chapra', 'chennai', 'chinsurah', 'chittoor',\n",
              "        'coimbatore', 'cuttack', 'danapur', 'darbhanga', 'davanagere',\n",
              "        'dehradun', 'dehri', 'delhicity', 'deoghar', 'dewas', 'dhanbad',\n",
              "        'dharmavaram', 'dhule', 'dibrugarh', 'dindigul', 'durg',\n",
              "        'durgapur', 'eluru', 'erode', 'etawah', 'faridabad', 'farrukhabad',\n",
              "        'fatehpur', 'firozabad', 'gandhidham', 'gandhinagar', 'gangtok',\n",
              "        'gaya', 'ghaziabad', 'giridih', 'gopalpur', 'gorakhpur',\n",
              "        'gudivada', 'gulbarga', 'guna', 'guntakal', 'guntur', 'gurgaon',\n",
              "        'guwahati', 'gwalior', 'hajipur', 'haldia', 'hapur', 'haridwar',\n",
              "        'hazaribagh', 'hindupur', 'hospet', 'hosur', 'howrah',\n",
              "        'hublidharwad', 'hyderabad', 'ichalkaranji', 'imphal', 'indore',\n",
              "        'jabalpur', 'jaipur', 'jalandhar', 'jalgaon', 'jalna', 'jamalpur',\n",
              "        'jammu', 'jamnagar', 'jamshedpur', 'jaunpur', 'jehanabad',\n",
              "        'jhansi', 'jodhpur', 'jorhat', 'junagadh', 'kadapa', 'kakinada',\n",
              "        'kalyandombivli', 'kamarhati', 'kanpur', 'karaikudi',\n",
              "        'karawal nagar', 'karimnagar', 'karnal', 'katihar', 'katni',\n",
              "        'kavali', 'khammam', 'khandwa', 'kharagpur', 'khora ghaziabad',\n",
              "        'kirari suleman nagar', 'kishanganj', 'kochi', 'kolhapur',\n",
              "        'kolkata', 'kollam', 'korba', 'kota', 'kottayam', 'kozhikode',\n",
              "        'kulti', 'kumbakonam', 'kurnool', 'latur', 'loni', 'lucknow',\n",
              "        'ludhiana', 'machilipatnam', 'madanapalle', 'madhyamgram',\n",
              "        'madurai', 'mahbubnagar', 'maheshtala', 'malda', 'malegaon',\n",
              "        'mangalore', 'mango', 'mathura', 'mau', 'medininagar', 'meerut',\n",
              "        'mehsana', 'mirabhayandar', 'miryalaguda', 'mirzapur', 'moradabad',\n",
              "        'morbi', 'morena', 'motihari', 'mumbai', 'munger', 'muzaffarnagar',\n",
              "        'muzaffarpur', 'mysore', 'nadiad', 'nagaon', 'nagercoil', 'nagpur',\n",
              "        'naihati', 'nanded', 'nandyal', 'nangloi jat', 'narasaraopet',\n",
              "        'nashik', 'navi mumbai', 'nellore', 'new delhi', 'nizamabad',\n",
              "        'noida', 'north dumdum', 'ongole', 'orai', 'ozhukarai', 'pali',\n",
              "        'pallavaram', 'panchkula', 'panihati', 'panipat', 'panvel',\n",
              "        'parbhani', 'patiala', 'patna', 'phagwara', 'phusro',\n",
              "        'pimprichinchwad', 'pondicherry', 'proddatur', 'pudukkottai',\n",
              "        'pune', 'purnia', 'raebareli', 'raichur', 'raiganj', 'raipur',\n",
              "        'rajahmundry', 'rajkot', 'rajpur sonarpur', 'ramagundam',\n",
              "        'ramgarh', 'rampur', 'ranchi', 'ratlam',\n",
              "        'raurkela industrial township', 'rewa', 'rohtak', 'rourkela',\n",
              "        'sagar', 'saharanpur', 'saharsa', 'salem', 'sambalpur', 'sambhal',\n",
              "        'sanglimiraj  kupwad', 'sasaram', 'satara', 'satna',\n",
              "        'secunderabad', 'serampore', 'shahjahanpur', 'shimla', 'shimoga',\n",
              "        'shivpuri', 'sikar', 'silchar', 'siliguri', 'singrauli', 'sirsa',\n",
              "        'siwan', 'solapur', 'sonipat', 'south dumdum', 'sri ganganagar',\n",
              "        'srikakulam', 'srinagar', 'sultan pur majra', 'surat',\n",
              "        'surendranagar dudhrej', 'suryapet', 'tadepalligudem', 'tadipatri',\n",
              "        'tenali', 'tezpur', 'thane', 'thanjavur', 'thiruvananthapuram',\n",
              "        'thoothukudi', 'thrissur', 'tinsukia', 'tiruchirappalli',\n",
              "        'tirunelveli', 'tirupati', 'tiruppur', 'tiruvottiyur', 'tumkur',\n",
              "        'udaipur', 'udupi', 'ujjain', 'ulhasnagar', 'uluberia', 'unnao',\n",
              "        'vadodara', 'varanasi', 'vasaivirar', 'vellore', 'vijayanagaram',\n",
              "        'vijayawada', 'visakhapatnam', 'warangal', 'yamunanagar'],\n",
              "       dtype=object),\n",
              " array(['andhra pradesh', 'assam', 'bihar', 'chandigarh', 'chhattisgarh',\n",
              "        'delhi', 'gujarat', 'haryana', 'himachal pradesh',\n",
              "        'jammu and kashmir', 'jharkhand', 'karnataka', 'kerala',\n",
              "        'madhya pradesh', 'maharashtra', 'manipur', 'mizoram', 'odisha',\n",
              "        'puducherry', 'punjab', 'rajasthan', 'sikkim', 'tamil nadu',\n",
              "        'telangana', 'tripura', 'uttar pradesh', 'uttarakhand',\n",
              "        'west bengal'], dtype=object)]"
            ]
          },
          "metadata": {},
          "execution_count": 30
        }
      ]
    },
    {
      "cell_type": "markdown",
      "source": [
        "# Concatenating Numeric and categorical"
      ],
      "metadata": {
        "id": "KqFrxFzyJkqU"
      }
    },
    {
      "cell_type": "code",
      "source": [
        "df_all_train1 = pd.concat([x_train_str,x_train0[num_col_name_list]],axis=1)\n",
        "df_all_test1 = pd.concat([x_test_str,x_test0[num_col_name_list]],axis=1)"
      ],
      "metadata": {
        "id": "nZBT8LImOq-F"
      },
      "execution_count": null,
      "outputs": []
    },
    {
      "cell_type": "code",
      "source": [
        "sel_cols = str_col_name_list + num_col_name_list"
      ],
      "metadata": {
        "id": "5Geu3j5s2H5A"
      },
      "execution_count": null,
      "outputs": []
    },
    {
      "cell_type": "code",
      "source": [
        "##back to presentation"
      ],
      "metadata": {
        "id": "CUtR7RjKHCcI"
      },
      "execution_count": null,
      "outputs": []
    },
    {
      "cell_type": "markdown",
      "source": [
        ""
      ],
      "metadata": {
        "id": "nHwwAlhUJsbO"
      }
    },
    {
      "cell_type": "markdown",
      "source": [
        "# Building Model"
      ],
      "metadata": {
        "id": "x_7IZfNVJsn7"
      }
    },
    {
      "cell_type": "code",
      "source": [
        "\n",
        "le = preprocessing.LabelEncoder()\n",
        "y_train1 = le.fit_transform(y_train)\n",
        "y_test1 = le.transform(y_test)"
      ],
      "metadata": {
        "id": "ToMEyo4Hds5q"
      },
      "execution_count": null,
      "outputs": []
    },
    {
      "cell_type": "code",
      "source": [
        "class_weights = [0.1,0.9]\n",
        "\n",
        "\n",
        "\n",
        "xgb = XGBClassifier(n_estimators=300,max_depth= 5,subsample= 0.2,class_weights = class_weights,scale_pos_weight=6,\n",
        "                    colsample_bytree= 0.3)\n",
        "xgb.fit(df_all_train1,y_train1)\n"
      ],
      "metadata": {
        "colab": {
          "base_uri": "https://localhost:8080/"
        },
        "id": "gX7uD7afOY9w",
        "outputId": "6db11563-d49b-4532-bc21-3d1d604b87a9"
      },
      "execution_count": null,
      "outputs": [
        {
          "output_type": "execute_result",
          "data": {
            "text/plain": [
              "XGBClassifier(class_weights=[0.1, 0.9], colsample_bytree=0.3, max_depth=5,\n",
              "              n_estimators=300, scale_pos_weight=6, subsample=0.2)"
            ]
          },
          "metadata": {},
          "execution_count": 35
        }
      ]
    },
    {
      "cell_type": "code",
      "source": [
        "##back to presentation"
      ],
      "metadata": {
        "id": "bO42zKl3HKff"
      },
      "execution_count": null,
      "outputs": []
    },
    {
      "cell_type": "markdown",
      "source": [
        "# Measure"
      ],
      "metadata": {
        "id": "dZVqqH2oJyvP"
      }
    },
    {
      "cell_type": "code",
      "execution_count": null,
      "metadata": {
        "id": "Sacus2BZ0Mag"
      },
      "outputs": [],
      "source": [
        "def cf_mat_conv(cf_mat):\n",
        "    cf_mat1 = pd.DataFrame(cf_mat)\n",
        "\n",
        "    \n",
        "    cols0 = cf_mat1.columns\n",
        "    #print (cols0)\n",
        "    cols1 = []\n",
        "    rows1 = []\n",
        "    for i in cols0:\n",
        "        i1 = \"pred_\" + str(i)\n",
        "        i2 = \"actual_\" + str(i)\n",
        "        cols1.append(i1)\n",
        "        rows1.append(i2)\n",
        "    #print (rows1)\n",
        "    cf_mat1.columns = cols1\n",
        "    cf_mat1[\"vals\"] = rows1\n",
        "    return cf_mat1"
      ]
    },
    {
      "cell_type": "code",
      "source": [
        "def get_metrics1(mod1,test_set,actual1,fg):\n",
        "    mod = eval(mod1)\n",
        "    pred=mod.predict(test_set)\n",
        "    #print(pred)\n",
        "    pred1=mod.predict_proba(test_set)[:,1]\n",
        "    \n",
        "    ac1 = accuracy_score(actual1, pred)\n",
        "    cf_mat1 = confusion_matrix(actual1, pred, labels=None, sample_weight=None)\n",
        "    cf_mat_orig = cf_mat1.copy()\n",
        "\n",
        "    \n",
        "    #print (b_test_b.shape)\n",
        "    cf_mat1 = cf_mat_conv(cf_mat1)\n",
        "\n",
        "    \n",
        "    fpr, tpr, thresholds = roc_curve(actual1, pred1)\n",
        "    auc_pr = average_precision_score(actual1, pred1)\n",
        "    auc1 = auc(fpr, tpr)\n",
        "    f1scr = f1_score(actual1, pred, average='macro')\n",
        "    \n",
        "    if(fg==1):\n",
        "        pyplot.plot([0, 1], [0, 1], linestyle='--')\n",
        "    # plot the roc curve for the model\n",
        "        pyplot.plot(fpr, tpr, marker='.')\n",
        "    # show the plot\n",
        "        pyplot.show()\n",
        "\n",
        "        precision, recall, thresholds = precision_recall_curve(actual1, pred1)\n",
        "        pyplot.plot(precision, recall, marker='.')\n",
        "        pyplot.show()\n",
        "\n",
        "        cmd = ConfusionMatrixDisplay(cf_mat_orig)\n",
        "        cmd.plot(values_format='')\n",
        "\n",
        "    return ac1,cf_mat1,auc1,f1scr,auc_pr\n"
      ],
      "metadata": {
        "id": "68H3oeTsjB4_"
      },
      "execution_count": null,
      "outputs": []
    },
    {
      "cell_type": "code",
      "source": [
        "print (get_metrics1(\"xgb\",df_all_test1,y_test1,1))"
      ],
      "metadata": {
        "colab": {
          "base_uri": "https://localhost:8080/",
          "height": 1000
        },
        "id": "3Ks0Zkf6jEc6",
        "outputId": "f8beef35-da5e-405d-e8cf-c708c692ae68"
      },
      "execution_count": null,
      "outputs": [
        {
          "output_type": "display_data",
          "data": {
            "image/png": "[encoded data removed]",
            "text/plain": [
              "<Figure size 600x400 with 1 Axes>"
            ]
          },
          "metadata": {}
        },
        {
          "output_type": "display_data",
          "data": {
            "image/png": "[encoded data removed]",
            "text/plain": [
              "<Figure size 600x400 with 1 Axes>"
            ]
          },
          "metadata": {}
        },
        {
          "output_type": "stream",
          "name": "stdout",
          "text": [
            "(0.7548593073593074,    pred_0  pred_1      vals\n",
            "0   57635   20471  actual_0\n",
            "1    2180   12114  actual_1, 0.8674575588782634, 0.6762941000896743, 0.5845599228765508)\n"
          ]
        },
        {
          "output_type": "display_data",
          "data": {
            "image/png": "[encoded data removed]",
            "text/plain": [
              "<Figure size 600x400 with 2 Axes>"
            ]
          },
          "metadata": {}
        }
      ]
    },
    {
      "cell_type": "code",
      "source": [
        "##back to presentation"
      ],
      "metadata": {
        "id": "msi_CJvhHUj3"
      },
      "execution_count": null,
      "outputs": []
    },
    {
      "cell_type": "markdown",
      "source": [
        "# Explaining the Model"
      ],
      "metadata": {
        "id": "34WwWTfDJ4GM"
      }
    },
    {
      "cell_type": "code",
      "source": [
        "df1_tr = pd.DataFrame(df_all_train1)\n",
        "df1_tr.columns =sel_cols\n",
        "explainer = shap.TreeExplainer(xgb)\n",
        "shap_values = explainer.shap_values(df1_tr)\n",
        "\n"
      ],
      "metadata": {
        "id": "iNDd8RgWyDAj"
      },
      "execution_count": null,
      "outputs": []
    },
    {
      "cell_type": "code",
      "source": [
        "shap.summary_plot(shap_values, df1_tr, plot_type=\"bar\")"
      ],
      "metadata": {
        "id": "R3QgMljN4er4",
        "colab": {
          "base_uri": "https://localhost:8080/",
          "height": 560
        },
        "outputId": "d68852a2-354d-4ec8-c17d-c2c8994daa75"
      },
      "execution_count": null,
      "outputs": [
        {
          "output_type": "display_data",
          "data": {
            "image/png": "[encoded data removed]",
            "text/plain": [
              "<Figure size 800x630 with 1 Axes>"
            ]
          },
          "metadata": {}
        }
      ]
    },
    {
      "cell_type": "markdown",
      "source": [
        "# Exercises"
      ],
      "metadata": {
        "id": "UvY0WP5SJ98n"
      }
    },
    {
      "cell_type": "markdown",
      "source": [
        "## One hot encoding"
      ],
      "metadata": {
        "id": "l5SuBCLcKF2y"
      }
    },
    {
      "cell_type": "code",
      "source": [
        "enc = OneHotEncoder(handle_unknown='ignore')\n",
        "df_one_hot_tr = pd.DataFrame(enc.fit_transform(np.array(x_train0[str_col_name_list])).todense())\n",
        "df_one_hot_te = pd.DataFrame(enc.transform(np.array(x_test0[str_col_name_list])).todense())\n",
        "colnames = enc.get_feature_names_out()\n",
        "\n",
        "df_one_hot_tr.columns = colnames\n",
        "df_one_hot_te.columns = colnames"
      ],
      "metadata": {
        "id": "rhKdxyNG5WwN"
      },
      "execution_count": null,
      "outputs": []
    },
    {
      "cell_type": "code",
      "source": [
        "df_one_hot_tr.head()"
      ],
      "metadata": {
        "colab": {
          "base_uri": "https://localhost:8080/",
          "height": 334
        },
        "id": "LWq57g9r7Ty5",
        "outputId": "c4f99ca2-ec2f-48da-824e-f91b6e8ea3b1"
      },
      "execution_count": null,
      "outputs": [
        {
          "output_type": "execute_result",
          "data": {
            "text/html": [
              "\n",
              "  <div id=\"df-49fce3c9-abca-4a7b-b6bd-fca00e9be848\">\n",
              "    <div class=\"colab-df-container\">\n",
              "      <div>\n",
              "<style scoped>\n",
              "    .dataframe tbody tr th:only-of-type {\n",
              "        vertical-align: middle;\n",
              "    }\n",
              "\n",
              "    .dataframe tbody tr th {\n",
              "        vertical-align: top;\n",
              "    }\n",
              "\n",
              "    .dataframe thead th {\n",
              "        text-align: right;\n",
              "    }\n",
              "</style>\n",
              "<table border=\"1\" class=\"dataframe\">\n",
              "  <thead>\n",
              "    <tr style=\"text-align: right;\">\n",
              "      <th></th>\n",
              "      <th>x0_air traffic controller</th>\n",
              "      <th>x0_analyst</th>\n",
              "      <th>x0_architect</th>\n",
              "      <th>x0_army officer</th>\n",
              "      <th>x0_artist</th>\n",
              "      <th>x0_aviator</th>\n",
              "      <th>x0_biomedical engineer</th>\n",
              "      <th>x0_chartered accountant</th>\n",
              "      <th>x0_chef</th>\n",
              "      <th>x0_chemical engineer</th>\n",
              "      <th>x0_civil engineer</th>\n",
              "      <th>x0_civil servant</th>\n",
              "      <th>x0_comedian</th>\n",
              "      <th>x0_computer hardware engineer</th>\n",
              "      <th>x0_computer operator</th>\n",
              "      <th>x0_consultant</th>\n",
              "      <th>x0_dentist</th>\n",
              "      <th>x0_design engineer</th>\n",
              "      <th>x0_designer</th>\n",
              "      <th>x0_drafter</th>\n",
              "      <th>x0_economist</th>\n",
              "      <th>x0_engineer</th>\n",
              "      <th>x0_fashion designer</th>\n",
              "      <th>x0_financial analyst</th>\n",
              "      <th>x0_firefighter</th>\n",
              "      <th>x0_flight attendant</th>\n",
              "      <th>x0_geologist</th>\n",
              "      <th>x0_graphic designer</th>\n",
              "      <th>x0_hotel manager</th>\n",
              "      <th>x0_industrial engineer</th>\n",
              "      <th>x0_lawyer</th>\n",
              "      <th>x0_librarian</th>\n",
              "      <th>x0_magistrate</th>\n",
              "      <th>x0_mechanical engineer</th>\n",
              "      <th>x0_microbiologist</th>\n",
              "      <th>x0_official</th>\n",
              "      <th>x0_petroleum engineer</th>\n",
              "      <th>x0_physician</th>\n",
              "      <th>x0_police officer</th>\n",
              "      <th>x0_politician</th>\n",
              "      <th>...</th>\n",
              "      <th>x4_ulhasnagar</th>\n",
              "      <th>x4_uluberia</th>\n",
              "      <th>x4_unnao</th>\n",
              "      <th>x4_vadodara</th>\n",
              "      <th>x4_varanasi</th>\n",
              "      <th>x4_vasaivirar</th>\n",
              "      <th>x4_vellore</th>\n",
              "      <th>x4_vijayanagaram</th>\n",
              "      <th>x4_vijayawada</th>\n",
              "      <th>x4_visakhapatnam</th>\n",
              "      <th>x4_warangal</th>\n",
              "      <th>x4_yamunanagar</th>\n",
              "      <th>x5_andhra pradesh</th>\n",
              "      <th>x5_assam</th>\n",
              "      <th>x5_bihar</th>\n",
              "      <th>x5_chandigarh</th>\n",
              "      <th>x5_chhattisgarh</th>\n",
              "      <th>x5_delhi</th>\n",
              "      <th>x5_gujarat</th>\n",
              "      <th>x5_haryana</th>\n",
              "      <th>x5_himachal pradesh</th>\n",
              "      <th>x5_jammu and kashmir</th>\n",
              "      <th>x5_jharkhand</th>\n",
              "      <th>x5_karnataka</th>\n",
              "      <th>x5_kerala</th>\n",
              "      <th>x5_madhya pradesh</th>\n",
              "      <th>x5_maharashtra</th>\n",
              "      <th>x5_manipur</th>\n",
              "      <th>x5_mizoram</th>\n",
              "      <th>x5_odisha</th>\n",
              "      <th>x5_puducherry</th>\n",
              "      <th>x5_punjab</th>\n",
              "      <th>x5_rajasthan</th>\n",
              "      <th>x5_sikkim</th>\n",
              "      <th>x5_tamil nadu</th>\n",
              "      <th>x5_telangana</th>\n",
              "      <th>x5_tripura</th>\n",
              "      <th>x5_uttar pradesh</th>\n",
              "      <th>x5_uttarakhand</th>\n",
              "      <th>x5_west bengal</th>\n",
              "    </tr>\n",
              "  </thead>\n",
              "  <tbody>\n",
              "    <tr>\n",
              "      <th>0</th>\n",
              "      <td>0.00000</td>\n",
              "      <td>0.00000</td>\n",
              "      <td>0.00000</td>\n",
              "      <td>0.00000</td>\n",
              "      <td>0.00000</td>\n",
              "      <td>0.00000</td>\n",
              "      <td>0.00000</td>\n",
              "      <td>0.00000</td>\n",
              "      <td>0.00000</td>\n",
              "      <td>0.00000</td>\n",
              "      <td>0.00000</td>\n",
              "      <td>0.00000</td>\n",
              "      <td>0.00000</td>\n",
              "      <td>0.00000</td>\n",
              "      <td>0.00000</td>\n",
              "      <td>0.00000</td>\n",
              "      <td>0.00000</td>\n",
              "      <td>0.00000</td>\n",
              "      <td>0.00000</td>\n",
              "      <td>0.00000</td>\n",
              "      <td>0.00000</td>\n",
              "      <td>0.00000</td>\n",
              "      <td>0.00000</td>\n",
              "      <td>1.00000</td>\n",
              "      <td>0.00000</td>\n",
              "      <td>0.00000</td>\n",
              "      <td>0.00000</td>\n",
              "      <td>0.00000</td>\n",
              "      <td>0.00000</td>\n",
              "      <td>0.00000</td>\n",
              "      <td>0.00000</td>\n",
              "      <td>0.00000</td>\n",
              "      <td>0.00000</td>\n",
              "      <td>0.00000</td>\n",
              "      <td>0.00000</td>\n",
              "      <td>0.00000</td>\n",
              "      <td>0.00000</td>\n",
              "      <td>0.00000</td>\n",
              "      <td>0.00000</td>\n",
              "      <td>0.00000</td>\n",
              "      <td>...</td>\n",
              "      <td>0.00000</td>\n",
              "      <td>0.00000</td>\n",
              "      <td>0.00000</td>\n",
              "      <td>0.00000</td>\n",
              "      <td>0.00000</td>\n",
              "      <td>0.00000</td>\n",
              "      <td>0.00000</td>\n",
              "      <td>0.00000</td>\n",
              "      <td>0.00000</td>\n",
              "      <td>0.00000</td>\n",
              "      <td>0.00000</td>\n",
              "      <td>0.00000</td>\n",
              "      <td>0.00000</td>\n",
              "      <td>0.00000</td>\n",
              "      <td>0.00000</td>\n",
              "      <td>0.00000</td>\n",
              "      <td>0.00000</td>\n",
              "      <td>0.00000</td>\n",
              "      <td>0.00000</td>\n",
              "      <td>0.00000</td>\n",
              "      <td>0.00000</td>\n",
              "      <td>0.00000</td>\n",
              "      <td>0.00000</td>\n",
              "      <td>0.00000</td>\n",
              "      <td>0.00000</td>\n",
              "      <td>0.00000</td>\n",
              "      <td>0.00000</td>\n",
              "      <td>0.00000</td>\n",
              "      <td>0.00000</td>\n",
              "      <td>0.00000</td>\n",
              "      <td>0.00000</td>\n",
              "      <td>0.00000</td>\n",
              "      <td>0.00000</td>\n",
              "      <td>0.00000</td>\n",
              "      <td>0.00000</td>\n",
              "      <td>0.00000</td>\n",
              "      <td>0.00000</td>\n",
              "      <td>1.00000</td>\n",
              "      <td>0.00000</td>\n",
              "      <td>0.00000</td>\n",
              "    </tr>\n",
              "    <tr>\n",
              "      <th>1</th>\n",
              "      <td>0.00000</td>\n",
              "      <td>0.00000</td>\n",
              "      <td>0.00000</td>\n",
              "      <td>0.00000</td>\n",
              "      <td>0.00000</td>\n",
              "      <td>0.00000</td>\n",
              "      <td>0.00000</td>\n",
              "      <td>0.00000</td>\n",
              "      <td>1.00000</td>\n",
              "      <td>0.00000</td>\n",
              "      <td>0.00000</td>\n",
              "      <td>0.00000</td>\n",
              "      <td>0.00000</td>\n",
              "      <td>0.00000</td>\n",
              "      <td>0.00000</td>\n",
              "      <td>0.00000</td>\n",
              "      <td>0.00000</td>\n",
              "      <td>0.00000</td>\n",
              "      <td>0.00000</td>\n",
              "      <td>0.00000</td>\n",
              "      <td>0.00000</td>\n",
              "      <td>0.00000</td>\n",
              "      <td>0.00000</td>\n",
              "      <td>0.00000</td>\n",
              "      <td>0.00000</td>\n",
              "      <td>0.00000</td>\n",
              "      <td>0.00000</td>\n",
              "      <td>0.00000</td>\n",
              "      <td>0.00000</td>\n",
              "      <td>0.00000</td>\n",
              "      <td>0.00000</td>\n",
              "      <td>0.00000</td>\n",
              "      <td>0.00000</td>\n",
              "      <td>0.00000</td>\n",
              "      <td>0.00000</td>\n",
              "      <td>0.00000</td>\n",
              "      <td>0.00000</td>\n",
              "      <td>0.00000</td>\n",
              "      <td>0.00000</td>\n",
              "      <td>0.00000</td>\n",
              "      <td>...</td>\n",
              "      <td>0.00000</td>\n",
              "      <td>0.00000</td>\n",
              "      <td>0.00000</td>\n",
              "      <td>0.00000</td>\n",
              "      <td>0.00000</td>\n",
              "      <td>0.00000</td>\n",
              "      <td>0.00000</td>\n",
              "      <td>0.00000</td>\n",
              "      <td>0.00000</td>\n",
              "      <td>0.00000</td>\n",
              "      <td>0.00000</td>\n",
              "      <td>0.00000</td>\n",
              "      <td>0.00000</td>\n",
              "      <td>0.00000</td>\n",
              "      <td>0.00000</td>\n",
              "      <td>0.00000</td>\n",
              "      <td>0.00000</td>\n",
              "      <td>0.00000</td>\n",
              "      <td>0.00000</td>\n",
              "      <td>0.00000</td>\n",
              "      <td>0.00000</td>\n",
              "      <td>0.00000</td>\n",
              "      <td>0.00000</td>\n",
              "      <td>0.00000</td>\n",
              "      <td>0.00000</td>\n",
              "      <td>0.00000</td>\n",
              "      <td>0.00000</td>\n",
              "      <td>0.00000</td>\n",
              "      <td>0.00000</td>\n",
              "      <td>0.00000</td>\n",
              "      <td>1.00000</td>\n",
              "      <td>0.00000</td>\n",
              "      <td>0.00000</td>\n",
              "      <td>0.00000</td>\n",
              "      <td>0.00000</td>\n",
              "      <td>0.00000</td>\n",
              "      <td>0.00000</td>\n",
              "      <td>0.00000</td>\n",
              "      <td>0.00000</td>\n",
              "      <td>0.00000</td>\n",
              "    </tr>\n",
              "    <tr>\n",
              "      <th>2</th>\n",
              "      <td>0.00000</td>\n",
              "      <td>0.00000</td>\n",
              "      <td>0.00000</td>\n",
              "      <td>0.00000</td>\n",
              "      <td>0.00000</td>\n",
              "      <td>0.00000</td>\n",
              "      <td>0.00000</td>\n",
              "      <td>0.00000</td>\n",
              "      <td>0.00000</td>\n",
              "      <td>0.00000</td>\n",
              "      <td>0.00000</td>\n",
              "      <td>0.00000</td>\n",
              "      <td>0.00000</td>\n",
              "      <td>0.00000</td>\n",
              "      <td>0.00000</td>\n",
              "      <td>0.00000</td>\n",
              "      <td>0.00000</td>\n",
              "      <td>0.00000</td>\n",
              "      <td>0.00000</td>\n",
              "      <td>0.00000</td>\n",
              "      <td>0.00000</td>\n",
              "      <td>0.00000</td>\n",
              "      <td>0.00000</td>\n",
              "      <td>0.00000</td>\n",
              "      <td>0.00000</td>\n",
              "      <td>0.00000</td>\n",
              "      <td>0.00000</td>\n",
              "      <td>0.00000</td>\n",
              "      <td>0.00000</td>\n",
              "      <td>0.00000</td>\n",
              "      <td>0.00000</td>\n",
              "      <td>0.00000</td>\n",
              "      <td>0.00000</td>\n",
              "      <td>0.00000</td>\n",
              "      <td>0.00000</td>\n",
              "      <td>0.00000</td>\n",
              "      <td>0.00000</td>\n",
              "      <td>0.00000</td>\n",
              "      <td>0.00000</td>\n",
              "      <td>0.00000</td>\n",
              "      <td>...</td>\n",
              "      <td>0.00000</td>\n",
              "      <td>0.00000</td>\n",
              "      <td>0.00000</td>\n",
              "      <td>0.00000</td>\n",
              "      <td>0.00000</td>\n",
              "      <td>0.00000</td>\n",
              "      <td>0.00000</td>\n",
              "      <td>0.00000</td>\n",
              "      <td>0.00000</td>\n",
              "      <td>0.00000</td>\n",
              "      <td>0.00000</td>\n",
              "      <td>0.00000</td>\n",
              "      <td>0.00000</td>\n",
              "      <td>0.00000</td>\n",
              "      <td>1.00000</td>\n",
              "      <td>0.00000</td>\n",
              "      <td>0.00000</td>\n",
              "      <td>0.00000</td>\n",
              "      <td>0.00000</td>\n",
              "      <td>0.00000</td>\n",
              "      <td>0.00000</td>\n",
              "      <td>0.00000</td>\n",
              "      <td>0.00000</td>\n",
              "      <td>0.00000</td>\n",
              "      <td>0.00000</td>\n",
              "      <td>0.00000</td>\n",
              "      <td>0.00000</td>\n",
              "      <td>0.00000</td>\n",
              "      <td>0.00000</td>\n",
              "      <td>0.00000</td>\n",
              "      <td>0.00000</td>\n",
              "      <td>0.00000</td>\n",
              "      <td>0.00000</td>\n",
              "      <td>0.00000</td>\n",
              "      <td>0.00000</td>\n",
              "      <td>0.00000</td>\n",
              "      <td>0.00000</td>\n",
              "      <td>0.00000</td>\n",
              "      <td>0.00000</td>\n",
              "      <td>0.00000</td>\n",
              "    </tr>\n",
              "    <tr>\n",
              "      <th>3</th>\n",
              "      <td>0.00000</td>\n",
              "      <td>0.00000</td>\n",
              "      <td>0.00000</td>\n",
              "      <td>0.00000</td>\n",
              "      <td>0.00000</td>\n",
              "      <td>0.00000</td>\n",
              "      <td>0.00000</td>\n",
              "      <td>0.00000</td>\n",
              "      <td>0.00000</td>\n",
              "      <td>0.00000</td>\n",
              "      <td>0.00000</td>\n",
              "      <td>0.00000</td>\n",
              "      <td>0.00000</td>\n",
              "      <td>0.00000</td>\n",
              "      <td>0.00000</td>\n",
              "      <td>0.00000</td>\n",
              "      <td>0.00000</td>\n",
              "      <td>1.00000</td>\n",
              "      <td>0.00000</td>\n",
              "      <td>0.00000</td>\n",
              "      <td>0.00000</td>\n",
              "      <td>0.00000</td>\n",
              "      <td>0.00000</td>\n",
              "      <td>0.00000</td>\n",
              "      <td>0.00000</td>\n",
              "      <td>0.00000</td>\n",
              "      <td>0.00000</td>\n",
              "      <td>0.00000</td>\n",
              "      <td>0.00000</td>\n",
              "      <td>0.00000</td>\n",
              "      <td>0.00000</td>\n",
              "      <td>0.00000</td>\n",
              "      <td>0.00000</td>\n",
              "      <td>0.00000</td>\n",
              "      <td>0.00000</td>\n",
              "      <td>0.00000</td>\n",
              "      <td>0.00000</td>\n",
              "      <td>0.00000</td>\n",
              "      <td>0.00000</td>\n",
              "      <td>0.00000</td>\n",
              "      <td>...</td>\n",
              "      <td>0.00000</td>\n",
              "      <td>0.00000</td>\n",
              "      <td>0.00000</td>\n",
              "      <td>0.00000</td>\n",
              "      <td>0.00000</td>\n",
              "      <td>0.00000</td>\n",
              "      <td>0.00000</td>\n",
              "      <td>0.00000</td>\n",
              "      <td>0.00000</td>\n",
              "      <td>0.00000</td>\n",
              "      <td>0.00000</td>\n",
              "      <td>0.00000</td>\n",
              "      <td>0.00000</td>\n",
              "      <td>0.00000</td>\n",
              "      <td>0.00000</td>\n",
              "      <td>0.00000</td>\n",
              "      <td>0.00000</td>\n",
              "      <td>0.00000</td>\n",
              "      <td>0.00000</td>\n",
              "      <td>0.00000</td>\n",
              "      <td>0.00000</td>\n",
              "      <td>0.00000</td>\n",
              "      <td>0.00000</td>\n",
              "      <td>0.00000</td>\n",
              "      <td>0.00000</td>\n",
              "      <td>1.00000</td>\n",
              "      <td>0.00000</td>\n",
              "      <td>0.00000</td>\n",
              "      <td>0.00000</td>\n",
              "      <td>0.00000</td>\n",
              "      <td>0.00000</td>\n",
              "      <td>0.00000</td>\n",
              "      <td>0.00000</td>\n",
              "      <td>0.00000</td>\n",
              "      <td>0.00000</td>\n",
              "      <td>0.00000</td>\n",
              "      <td>0.00000</td>\n",
              "      <td>0.00000</td>\n",
              "      <td>0.00000</td>\n",
              "      <td>0.00000</td>\n",
              "    </tr>\n",
              "    <tr>\n",
              "      <th>4</th>\n",
              "      <td>0.00000</td>\n",
              "      <td>0.00000</td>\n",
              "      <td>0.00000</td>\n",
              "      <td>0.00000</td>\n",
              "      <td>0.00000</td>\n",
              "      <td>0.00000</td>\n",
              "      <td>0.00000</td>\n",
              "      <td>0.00000</td>\n",
              "      <td>0.00000</td>\n",
              "      <td>0.00000</td>\n",
              "      <td>0.00000</td>\n",
              "      <td>0.00000</td>\n",
              "      <td>0.00000</td>\n",
              "      <td>0.00000</td>\n",
              "      <td>0.00000</td>\n",
              "      <td>0.00000</td>\n",
              "      <td>0.00000</td>\n",
              "      <td>0.00000</td>\n",
              "      <td>0.00000</td>\n",
              "      <td>0.00000</td>\n",
              "      <td>0.00000</td>\n",
              "      <td>0.00000</td>\n",
              "      <td>0.00000</td>\n",
              "      <td>0.00000</td>\n",
              "      <td>0.00000</td>\n",
              "      <td>0.00000</td>\n",
              "      <td>0.00000</td>\n",
              "      <td>0.00000</td>\n",
              "      <td>0.00000</td>\n",
              "      <td>0.00000</td>\n",
              "      <td>0.00000</td>\n",
              "      <td>0.00000</td>\n",
              "      <td>0.00000</td>\n",
              "      <td>0.00000</td>\n",
              "      <td>0.00000</td>\n",
              "      <td>0.00000</td>\n",
              "      <td>0.00000</td>\n",
              "      <td>0.00000</td>\n",
              "      <td>0.00000</td>\n",
              "      <td>0.00000</td>\n",
              "      <td>...</td>\n",
              "      <td>0.00000</td>\n",
              "      <td>0.00000</td>\n",
              "      <td>0.00000</td>\n",
              "      <td>0.00000</td>\n",
              "      <td>0.00000</td>\n",
              "      <td>0.00000</td>\n",
              "      <td>0.00000</td>\n",
              "      <td>0.00000</td>\n",
              "      <td>0.00000</td>\n",
              "      <td>0.00000</td>\n",
              "      <td>0.00000</td>\n",
              "      <td>0.00000</td>\n",
              "      <td>0.00000</td>\n",
              "      <td>0.00000</td>\n",
              "      <td>0.00000</td>\n",
              "      <td>0.00000</td>\n",
              "      <td>0.00000</td>\n",
              "      <td>0.00000</td>\n",
              "      <td>0.00000</td>\n",
              "      <td>0.00000</td>\n",
              "      <td>0.00000</td>\n",
              "      <td>0.00000</td>\n",
              "      <td>0.00000</td>\n",
              "      <td>0.00000</td>\n",
              "      <td>0.00000</td>\n",
              "      <td>0.00000</td>\n",
              "      <td>1.00000</td>\n",
              "      <td>0.00000</td>\n",
              "      <td>0.00000</td>\n",
              "      <td>0.00000</td>\n",
              "      <td>0.00000</td>\n",
              "      <td>0.00000</td>\n",
              "      <td>0.00000</td>\n",
              "      <td>0.00000</td>\n",
              "      <td>0.00000</td>\n",
              "      <td>0.00000</td>\n",
              "      <td>0.00000</td>\n",
              "      <td>0.00000</td>\n",
              "      <td>0.00000</td>\n",
              "      <td>0.00000</td>\n",
              "    </tr>\n",
              "  </tbody>\n",
              "</table>\n",
              "<p>5 rows × 402 columns</p>\n",
              "</div>\n",
              "      <button class=\"colab-df-convert\" onclick=\"convertToInteractive('df-49fce3c9-abca-4a7b-b6bd-fca00e9be848')\"\n",
              "              title=\"Convert this dataframe to an interactive table.\"\n",
              "              style=\"display:none;\">\n",
              "        \n",
              "  <svg xmlns=\"http://www.w3.org/2000/svg\" height=\"24px\"viewBox=\"0 0 24 24\"\n",
              "       width=\"24px\">\n",
              "    <path d=\"M0 0h24v24H0V0z\" fill=\"none\"/>\n",
              "    <path d=\"M18.56 5.44l.94 2.06.94-2.06 2.06-.94-2.06-.94-.94-2.06-.94 2.06-2.06.94zm-11 1L8.5 8.5l.94-2.06 2.06-.94-2.06-.94L8.5 2.5l-.94 2.06-2.06.94zm10 10l.94 2.06.94-2.06 2.06-.94-2.06-.94-.94-2.06-.94 2.06-2.06.94z\"/><path d=\"M17.41 7.96l-1.37-1.37c-.4-.4-.92-.59-1.43-.59-.52 0-1.04.2-1.43.59L10.3 9.45l-7.72 7.72c-.78.78-.78 2.05 0 2.83L4 21.41c.39.39.9.59 1.41.59.51 0 1.02-.2 1.41-.59l7.78-7.78 2.81-2.81c.8-.78.8-2.07 0-2.86zM5.41 20L4 18.59l7.72-7.72 1.47 1.35L5.41 20z\"/>\n",
              "  </svg>\n",
              "      </button>\n",
              "      \n",
              "  <style>\n",
              "    .colab-df-container {\n",
              "      display:flex;\n",
              "      flex-wrap:wrap;\n",
              "      gap: 12px;\n",
              "    }\n",
              "\n",
              "    .colab-df-convert {\n",
              "      background-color: #E8F0FE;\n",
              "      border: none;\n",
              "      border-radius: 50%;\n",
              "      cursor: pointer;\n",
              "      display: none;\n",
              "      fill: #1967D2;\n",
              "      height: 32px;\n",
              "      padding: 0 0 0 0;\n",
              "      width: 32px;\n",
              "    }\n",
              "\n",
              "    .colab-df-convert:hover {\n",
              "      background-color: #E2EBFA;\n",
              "      box-shadow: 0px 1px 2px rgba(60, 64, 67, 0.3), 0px 1px 3px 1px rgba(60, 64, 67, 0.15);\n",
              "      fill: #174EA6;\n",
              "    }\n",
              "\n",
              "    [theme=dark] .colab-df-convert {\n",
              "      background-color: #3B4455;\n",
              "      fill: #D2E3FC;\n",
              "    }\n",
              "\n",
              "    [theme=dark] .colab-df-convert:hover {\n",
              "      background-color: #434B5C;\n",
              "      box-shadow: 0px 1px 3px 1px rgba(0, 0, 0, 0.15);\n",
              "      filter: drop-shadow(0px 1px 2px rgba(0, 0, 0, 0.3));\n",
              "      fill: #FFFFFF;\n",
              "    }\n",
              "  </style>\n",
              "\n",
              "      <script>\n",
              "        const buttonEl =\n",
              "          document.querySelector('#df-49fce3c9-abca-4a7b-b6bd-fca00e9be848 button.colab-df-convert');\n",
              "        buttonEl.style.display =\n",
              "          google.colab.kernel.accessAllowed ? 'block' : 'none';\n",
              "\n",
              "        async function convertToInteractive(key) {\n",
              "          const element = document.querySelector('#df-49fce3c9-abca-4a7b-b6bd-fca00e9be848');\n",
              "          const dataTable =\n",
              "            await google.colab.kernel.invokeFunction('convertToInteractive',\n",
              "                                                     [key], {});\n",
              "          if (!dataTable) return;\n",
              "\n",
              "          const docLinkHtml = 'Like what you see? Visit the ' +\n",
              "            '<a target=\"_blank\" href=https://colab.research.google.com/notebooks/data_table.ipynb>data table notebook</a>'\n",
              "            + ' to learn more about interactive tables.';\n",
              "          element.innerHTML = '';\n",
              "          dataTable['output_type'] = 'display_data';\n",
              "          await google.colab.output.renderOutput(dataTable, element);\n",
              "          const docLink = document.createElement('div');\n",
              "          docLink.innerHTML = docLinkHtml;\n",
              "          element.appendChild(docLink);\n",
              "        }\n",
              "      </script>\n",
              "    </div>\n",
              "  </div>\n",
              "  "
            ],
            "text/plain": [
              "   x0_air traffic controller  x0_analyst  ...  x5_uttarakhand  x5_west bengal\n",
              "0                    0.00000     0.00000  ...         0.00000         0.00000\n",
              "1                    0.00000     0.00000  ...         0.00000         0.00000\n",
              "2                    0.00000     0.00000  ...         0.00000         0.00000\n",
              "3                    0.00000     0.00000  ...         0.00000         0.00000\n",
              "4                    0.00000     0.00000  ...         0.00000         0.00000\n",
              "\n",
              "[5 rows x 402 columns]"
            ]
          },
          "metadata": {},
          "execution_count": 44
        }
      ]
    },
    {
      "cell_type": "code",
      "source": [
        "df_all_one_hot_train1 = pd.concat([df_one_hot_tr,x_train0[num_col_name_list]],axis=1)\n",
        "df_all_one_hot_test1 = pd.concat([df_one_hot_te,x_test0[num_col_name_list]],axis=1)"
      ],
      "metadata": {
        "id": "JUPZ9qNu59wC"
      },
      "execution_count": null,
      "outputs": []
    },
    {
      "cell_type": "code",
      "source": [
        "sel_cols = list(colnames) + num_col_name_list"
      ],
      "metadata": {
        "id": "JwHRRBcm6MCT"
      },
      "execution_count": null,
      "outputs": []
    },
    {
      "cell_type": "code",
      "source": [
        "class_weights = [0.1,0.9]\n",
        "\n",
        "\n",
        "\n",
        "xgb_ohe = XGBClassifier(n_estimators=100,max_depth= 5,subsample= 0.2,class_weights = class_weights,scale_pos_weight=6,\n",
        "                    colsample_bytree= 0.3,n_jobs=6)\n",
        "xgb_ohe.fit(df_all_one_hot_train1,y_train1)\n"
      ],
      "metadata": {
        "colab": {
          "base_uri": "https://localhost:8080/"
        },
        "id": "xQAOrlx1_2O4",
        "outputId": "89b329fd-d411-4b82-d62f-30a230dc0bee"
      },
      "execution_count": null,
      "outputs": [
        {
          "output_type": "execute_result",
          "data": {
            "text/plain": [
              "XGBClassifier(class_weights=[0.1, 0.9], colsample_bytree=0.3, max_depth=5,\n",
              "              n_jobs=6, scale_pos_weight=6, subsample=0.2)"
            ]
          },
          "metadata": {},
          "execution_count": 47
        }
      ]
    },
    {
      "cell_type": "code",
      "source": [
        "print (get_metrics1(\"xgb_ohe\",df_all_one_hot_test1,y_test1,1))"
      ],
      "metadata": {
        "colab": {
          "base_uri": "https://localhost:8080/",
          "height": 1000
        },
        "id": "GI9q0er6_8yd",
        "outputId": "b3fd97fa-ed19-4fb6-e0a2-3d1480f43939"
      },
      "execution_count": null,
      "outputs": [
        {
          "output_type": "display_data",
          "data": {
            "image/png": "[encoded data removed]",
            "text/plain": [
              "<Figure size 600x400 with 1 Axes>"
            ]
          },
          "metadata": {}
        },
        {
          "output_type": "display_data",
          "data": {
            "image/png": "[encoded data removed]",
            "text/plain": [
              "<Figure size 600x400 with 1 Axes>"
            ]
          },
          "metadata": {}
        },
        {
          "output_type": "stream",
          "name": "stdout",
          "text": [
            "(0.568982683982684,    pred_0  pred_1      vals\n",
            "0   40453   37653  actual_0\n",
            "1    2173   12121  actual_1, 0.7732804120410663, 0.5242540512860935, 0.4118301103588312)\n"
          ]
        },
        {
          "output_type": "display_data",
          "data": {
            "image/png": "[encoded data removed]",
            "text/plain": [
              "<Figure size 600x400 with 2 Axes>"
            ]
          },
          "metadata": {}
        }
      ]
    },
    {
      "cell_type": "code",
      "source": [
        "df1_tr_ohe = pd.DataFrame(df_all_one_hot_train1)\n",
        "df1_tr_ohe.columns =sel_cols\n",
        "explainer_ohe = shap.TreeExplainer(xgb_ohe)\n",
        "shap_values_ohe = explainer_ohe.shap_values(df1_tr_ohe)"
      ],
      "metadata": {
        "id": "XKs14cmFCFss"
      },
      "execution_count": null,
      "outputs": []
    },
    {
      "cell_type": "code",
      "source": [
        "shap.summary_plot(shap_values_ohe, df1_tr_ohe, plot_type=\"bar\")"
      ],
      "metadata": {
        "id": "pW7i_60SCbJb",
        "colab": {
          "base_uri": "https://localhost:8080/",
          "height": 802
        },
        "outputId": "49d5360b-03ba-4f37-85b1-6922329ced92"
      },
      "execution_count": null,
      "outputs": [
        {
          "output_type": "display_data",
          "data": {
            "image/png": "[encoded data removed]",
            "text/plain": [
              "<Figure size 800x950 with 1 Axes>"
            ]
          },
          "metadata": {}
        }
      ]
    },
    {
      "cell_type": "markdown",
      "source": [
        "## Median impute of missing Values"
      ],
      "metadata": {
        "id": "alqz2SS9KQ6x"
      }
    },
    {
      "cell_type": "code",
      "source": [
        "#### median impute of missing values"
      ],
      "metadata": {
        "id": "5ADEajc9CiAo"
      },
      "execution_count": null,
      "outputs": []
    },
    {
      "cell_type": "code",
      "source": [
        "imp_mean = SimpleImputer(missing_values=np.nan, strategy='mean')\n",
        "imp_mean.fit(x_train0[num_col_name_list])\n",
        "\n",
        "x_train_num = pd.DataFrame(imp_mean.transform(x_train0[num_col_name_list]))\n",
        "x_test_num = pd.DataFrame(imp_mean.transform(x_test0[num_col_name_list]))\n",
        "\n",
        "x_train_num.columns = num_col_name_list\n",
        "x_test_num.columns = num_col_name_list"
      ],
      "metadata": {
        "colab": {
          "base_uri": "https://localhost:8080/"
        },
        "id": "vN3WrloODoY-",
        "outputId": "df664ee1-b793-4e05-9278-3edaea36a82f"
      },
      "execution_count": null,
      "outputs": [
        {
          "output_type": "execute_result",
          "data": {
            "text/plain": [
              "SimpleImputer()"
            ]
          },
          "metadata": {},
          "execution_count": 52
        }
      ]
    },
    {
      "cell_type": "code",
      "source": [
        "df_all_imp_train1 = pd.concat([x_train_str,x_train_num],axis=1)\n",
        "df_all_imp_test1 = pd.concat([x_test_str,x_test_num],axis=1)"
      ],
      "metadata": {
        "id": "hudqsuYiDwo-"
      },
      "execution_count": null,
      "outputs": []
    },
    {
      "cell_type": "code",
      "source": [
        "class_weights = [0.1,0.9]\n",
        "\n",
        "\n",
        "\n",
        "xgb_imp = XGBClassifier(n_estimators=300,max_depth= 5,subsample= 0.2,class_weights = class_weights,scale_pos_weight=6,\n",
        "                    colsample_bytree= 0.3)\n",
        "xgb_imp.fit(df_all_imp_train1,y_train1)"
      ],
      "metadata": {
        "colab": {
          "base_uri": "https://localhost:8080/"
        },
        "id": "ocB2e4iWt4KM",
        "outputId": "5e9b32a9-5b69-40ce-f24f-457beafd7db7"
      },
      "execution_count": null,
      "outputs": [
        {
          "output_type": "execute_result",
          "data": {
            "text/plain": [
              "XGBClassifier(class_weights=[0.1, 0.9], colsample_bytree=0.3, max_depth=5,\n",
              "              n_estimators=300, scale_pos_weight=6, subsample=0.2)"
            ]
          },
          "metadata": {},
          "execution_count": 54
        }
      ]
    },
    {
      "cell_type": "code",
      "source": [
        "print (get_metrics1(\"xgb_imp\",df_all_imp_test1,y_test1,1))"
      ],
      "metadata": {
        "colab": {
          "base_uri": "https://localhost:8080/",
          "height": 1000
        },
        "id": "cpoVcvWrvHi4",
        "outputId": "a7879eb7-da5f-42be-9529-0be7f9dc3427"
      },
      "execution_count": null,
      "outputs": [
        {
          "output_type": "display_data",
          "data": {
            "image/png": "[encoded data removed]",
            "text/plain": [
              "<Figure size 600x400 with 1 Axes>"
            ]
          },
          "metadata": {}
        },
        {
          "output_type": "display_data",
          "data": {
            "image/png": "[encoded data removed]",
            "text/plain": [
              "<Figure size 600x400 with 1 Axes>"
            ]
          },
          "metadata": {}
        },
        {
          "output_type": "stream",
          "name": "stdout",
          "text": [
            "(0.7525541125541125,    pred_0  pred_1      vals\n",
            "0   57310   20796  actual_0\n",
            "1    2068   12226  actual_1, 0.8670360875223648, 0.6752389024911911, 0.5840536775650178)\n"
          ]
        },
        {
          "output_type": "display_data",
          "data": {
            "image/png": "[encoded data removed]",
            "text/plain": [
              "<Figure size 600x400 with 2 Axes>"
            ]
          },
          "metadata": {}
        }
      ]
    },
    {
      "cell_type": "markdown",
      "source": [
        "## Putting all it together"
      ],
      "metadata": {
        "id": "ReR5NKImKZzN"
      }
    },
    {
      "cell_type": "code",
      "source": [
        "df_datasets = [df_all_test1,df_all_one_hot_test1,df_all_imp_test1]\n",
        "\n",
        "for num,i in enumerate([\"xgb\",\"xgb_ohe\",\"xgb_imp\"]):\n",
        "    print (num)\n",
        "    ac1,cf_mat1,auc1,f1scr,auc_pr = get_metrics1(i,df_datasets[num],y_test1,0)\n",
        "    \n",
        "    \n",
        "    df_met = pd.DataFrame([(ac1,auc1,f1scr,auc_pr)])\n",
        "    df_met.columns = [\"accuracy\",\"auc\",\"f1\",\"auc_pr\"]\n",
        "    df_met[\"model\"] = i\n",
        "    \n",
        "    if(num==0):  \n",
        "        df_met_all = df_met\n",
        "    else:\n",
        "        df_met_all = pd.concat([df_met,df_met_all],axis=0)"
      ],
      "metadata": {
        "colab": {
          "base_uri": "https://localhost:8080/"
        },
        "id": "bZBdVpuayC4P",
        "outputId": "d98a8777-b00b-4098-9146-bad085090085"
      },
      "execution_count": null,
      "outputs": [
        {
          "output_type": "stream",
          "name": "stdout",
          "text": [
            "0\n",
            "1\n",
            "2\n"
          ]
        }
      ]
    },
    {
      "cell_type": "code",
      "source": [
        "df_met_all.head()"
      ],
      "metadata": {
        "colab": {
          "base_uri": "https://localhost:8080/",
          "height": 143
        },
        "id": "pUHrriSz6U9L",
        "outputId": "872028a8-f92a-47a2-aaa1-9a78eff55d68"
      },
      "execution_count": null,
      "outputs": [
        {
          "output_type": "execute_result",
          "data": {
            "text/html": [
              "\n",
              "  <div id=\"df-94aa76e5-6e70-46c6-a0f8-4d10343cc067\">\n",
              "    <div class=\"colab-df-container\">\n",
              "      <div>\n",
              "<style scoped>\n",
              "    .dataframe tbody tr th:only-of-type {\n",
              "        vertical-align: middle;\n",
              "    }\n",
              "\n",
              "    .dataframe tbody tr th {\n",
              "        vertical-align: top;\n",
              "    }\n",
              "\n",
              "    .dataframe thead th {\n",
              "        text-align: right;\n",
              "    }\n",
              "</style>\n",
              "<table border=\"1\" class=\"dataframe\">\n",
              "  <thead>\n",
              "    <tr style=\"text-align: right;\">\n",
              "      <th></th>\n",
              "      <th>accuracy</th>\n",
              "      <th>auc</th>\n",
              "      <th>f1</th>\n",
              "      <th>auc_pr</th>\n",
              "      <th>model</th>\n",
              "    </tr>\n",
              "  </thead>\n",
              "  <tbody>\n",
              "    <tr>\n",
              "      <th>0</th>\n",
              "      <td>0.75255</td>\n",
              "      <td>0.86704</td>\n",
              "      <td>0.67524</td>\n",
              "      <td>0.58405</td>\n",
              "      <td>xgb_imp</td>\n",
              "    </tr>\n",
              "    <tr>\n",
              "      <th>0</th>\n",
              "      <td>0.56898</td>\n",
              "      <td>0.77328</td>\n",
              "      <td>0.52425</td>\n",
              "      <td>0.41183</td>\n",
              "      <td>xgb_ohe</td>\n",
              "    </tr>\n",
              "    <tr>\n",
              "      <th>0</th>\n",
              "      <td>0.75486</td>\n",
              "      <td>0.86746</td>\n",
              "      <td>0.67629</td>\n",
              "      <td>0.58456</td>\n",
              "      <td>xgb</td>\n",
              "    </tr>\n",
              "  </tbody>\n",
              "</table>\n",
              "</div>\n",
              "      <button class=\"colab-df-convert\" onclick=\"convertToInteractive('df-94aa76e5-6e70-46c6-a0f8-4d10343cc067')\"\n",
              "              title=\"Convert this dataframe to an interactive table.\"\n",
              "              style=\"display:none;\">\n",
              "        \n",
              "  <svg xmlns=\"http://www.w3.org/2000/svg\" height=\"24px\"viewBox=\"0 0 24 24\"\n",
              "       width=\"24px\">\n",
              "    <path d=\"M0 0h24v24H0V0z\" fill=\"none\"/>\n",
              "    <path d=\"M18.56 5.44l.94 2.06.94-2.06 2.06-.94-2.06-.94-.94-2.06-.94 2.06-2.06.94zm-11 1L8.5 8.5l.94-2.06 2.06-.94-2.06-.94L8.5 2.5l-.94 2.06-2.06.94zm10 10l.94 2.06.94-2.06 2.06-.94-2.06-.94-.94-2.06-.94 2.06-2.06.94z\"/><path d=\"M17.41 7.96l-1.37-1.37c-.4-.4-.92-.59-1.43-.59-.52 0-1.04.2-1.43.59L10.3 9.45l-7.72 7.72c-.78.78-.78 2.05 0 2.83L4 21.41c.39.39.9.59 1.41.59.51 0 1.02-.2 1.41-.59l7.78-7.78 2.81-2.81c.8-.78.8-2.07 0-2.86zM5.41 20L4 18.59l7.72-7.72 1.47 1.35L5.41 20z\"/>\n",
              "  </svg>\n",
              "      </button>\n",
              "      \n",
              "  <style>\n",
              "    .colab-df-container {\n",
              "      display:flex;\n",
              "      flex-wrap:wrap;\n",
              "      gap: 12px;\n",
              "    }\n",
              "\n",
              "    .colab-df-convert {\n",
              "      background-color: #E8F0FE;\n",
              "      border: none;\n",
              "      border-radius: 50%;\n",
              "      cursor: pointer;\n",
              "      display: none;\n",
              "      fill: #1967D2;\n",
              "      height: 32px;\n",
              "      padding: 0 0 0 0;\n",
              "      width: 32px;\n",
              "    }\n",
              "\n",
              "    .colab-df-convert:hover {\n",
              "      background-color: #E2EBFA;\n",
              "      box-shadow: 0px 1px 2px rgba(60, 64, 67, 0.3), 0px 1px 3px 1px rgba(60, 64, 67, 0.15);\n",
              "      fill: #174EA6;\n",
              "    }\n",
              "\n",
              "    [theme=dark] .colab-df-convert {\n",
              "      background-color: #3B4455;\n",
              "      fill: #D2E3FC;\n",
              "    }\n",
              "\n",
              "    [theme=dark] .colab-df-convert:hover {\n",
              "      background-color: #434B5C;\n",
              "      box-shadow: 0px 1px 3px 1px rgba(0, 0, 0, 0.15);\n",
              "      filter: drop-shadow(0px 1px 2px rgba(0, 0, 0, 0.3));\n",
              "      fill: #FFFFFF;\n",
              "    }\n",
              "  </style>\n",
              "\n",
              "      <script>\n",
              "        const buttonEl =\n",
              "          document.querySelector('#df-94aa76e5-6e70-46c6-a0f8-4d10343cc067 button.colab-df-convert');\n",
              "        buttonEl.style.display =\n",
              "          google.colab.kernel.accessAllowed ? 'block' : 'none';\n",
              "\n",
              "        async function convertToInteractive(key) {\n",
              "          const element = document.querySelector('#df-94aa76e5-6e70-46c6-a0f8-4d10343cc067');\n",
              "          const dataTable =\n",
              "            await google.colab.kernel.invokeFunction('convertToInteractive',\n",
              "                                                     [key], {});\n",
              "          if (!dataTable) return;\n",
              "\n",
              "          const docLinkHtml = 'Like what you see? Visit the ' +\n",
              "            '<a target=\"_blank\" href=https://colab.research.google.com/notebooks/data_table.ipynb>data table notebook</a>'\n",
              "            + ' to learn more about interactive tables.';\n",
              "          element.innerHTML = '';\n",
              "          dataTable['output_type'] = 'display_data';\n",
              "          await google.colab.output.renderOutput(dataTable, element);\n",
              "          const docLink = document.createElement('div');\n",
              "          docLink.innerHTML = docLinkHtml;\n",
              "          element.appendChild(docLink);\n",
              "        }\n",
              "      </script>\n",
              "    </div>\n",
              "  </div>\n",
              "  "
            ],
            "text/plain": [
              "   accuracy     auc      f1  auc_pr    model\n",
              "0   0.75255 0.86704 0.67524 0.58405  xgb_imp\n",
              "0   0.56898 0.77328 0.52425 0.41183  xgb_ohe\n",
              "0   0.75486 0.86746 0.67629 0.58456      xgb"
            ]
          },
          "metadata": {},
          "execution_count": 57
        }
      ]
    },
    {
      "cell_type": "code",
      "source": [
        "##back to presentation"
      ],
      "metadata": {
        "id": "Drw4CBFkHeoA"
      },
      "execution_count": null,
      "outputs": []
    }
  ],
  "metadata": {
    "colab": {
      "collapsed_sections": [],
      "name": "Classification_v2.ipynb",
      "provenance": []
    },
    "kernelspec": {
      "display_name": "Python 3",
      "language": "python",
      "name": "python3"
    },
    "language_info": {
      "codemirror_mode": {
        "name": "ipython",
        "version": 3
      },
      "file_extension": ".py",
      "mimetype": "text/x-python",
      "name": "python",
      "nbconvert_exporter": "python",
      "pygments_lexer": "ipython3",
      "version": "3.6.5"
    },
    "widgets": {
      "application/vnd.jupyter.widget-state+json": {
        "27e3168a11c74f31a381fa0b2cff40f7": {
          "model_module": "@jupyter-widgets/controls",
          "model_name": "HBoxModel",
          "model_module_version": "1.5.0",
          "state": {
            "_view_name": "HBoxView",
            "_dom_classes": [],
            "_model_name": "HBoxModel",
            "_view_module": "@jupyter-widgets/controls",
            "_model_module_version": "1.5.0",
            "_view_count": null,
            "_view_module_version": "1.5.0",
            "box_style": "",
            "layout": "IPY_MODEL_03dd661314d34c83a21f244e99b263a7",
            "_model_module": "@jupyter-widgets/controls",
            "children": [
              "IPY_MODEL_8c1cb984bf4a44cfb045ac16b9f5f6a1",
              "IPY_MODEL_8705408b69564d598c81d166a7cf6687",
              "IPY_MODEL_b2f0bc2f683d424280ab940105fa33fc"
            ]
          }
        },
        "03dd661314d34c83a21f244e99b263a7": {
          "model_module": "@jupyter-widgets/base",
          "model_name": "LayoutModel",
          "model_module_version": "1.2.0",
          "state": {
            "_view_name": "LayoutView",
            "grid_template_rows": null,
            "right": null,
            "justify_content": null,
            "_view_module": "@jupyter-widgets/base",
            "overflow": null,
            "_model_module_version": "1.2.0",
            "_view_count": null,
            "flex_flow": "row wrap",
            "width": "100%",
            "min_width": null,
            "border": null,
            "align_items": null,
            "bottom": null,
            "_model_module": "@jupyter-widgets/base",
            "top": null,
            "grid_column": null,
            "overflow_y": null,
            "overflow_x": null,
            "grid_auto_flow": null,
            "grid_area": null,
            "grid_template_columns": null,
            "flex": null,
            "_model_name": "LayoutModel",
            "justify_items": null,
            "grid_row": null,
            "max_height": null,
            "align_content": null,
            "visibility": null,
            "align_self": null,
            "height": null,
            "min_height": null,
            "padding": null,
            "grid_auto_rows": null,
            "grid_gap": null,
            "max_width": null,
            "order": null,
            "_view_module_version": "1.2.0",
            "grid_template_areas": null,
            "object_position": null,
            "object_fit": null,
            "grid_auto_columns": null,
            "margin": null,
            "display": "inline-flex",
            "left": null
          }
        },
        "8c1cb984bf4a44cfb045ac16b9f5f6a1": {
          "model_module": "@jupyter-widgets/controls",
          "model_name": "HTMLModel",
          "model_module_version": "1.5.0",
          "state": {
            "_view_name": "HTMLView",
            "style": "IPY_MODEL_3f231089ccfc425ca280113f7435c553",
            "_dom_classes": [],
            "description": "",
            "_model_name": "HTMLModel",
            "placeholder": "​",
            "_view_module": "@jupyter-widgets/controls",
            "_model_module_version": "1.5.0",
            "value": "Done! Use &#x27;show&#x27; commands to display/save.   ",
            "_view_count": null,
            "_view_module_version": "1.5.0",
            "description_tooltip": null,
            "_model_module": "@jupyter-widgets/controls",
            "layout": "IPY_MODEL_cfd6e0b0755646ffab0a3ffdb19f1ef5"
          }
        },
        "8705408b69564d598c81d166a7cf6687": {
          "model_module": "@jupyter-widgets/controls",
          "model_name": "FloatProgressModel",
          "model_module_version": "1.5.0",
          "state": {
            "_view_name": "ProgressView",
            "style": "IPY_MODEL_f37f137ba9b947d0a49f5e702a2376f0",
            "_dom_classes": [],
            "description": "",
            "_model_name": "FloatProgressModel",
            "bar_style": "success",
            "max": 1,
            "_view_module": "@jupyter-widgets/controls",
            "_model_module_version": "1.5.0",
            "value": 1,
            "_view_count": null,
            "_view_module_version": "1.5.0",
            "orientation": "horizontal",
            "min": 0,
            "description_tooltip": null,
            "_model_module": "@jupyter-widgets/controls",
            "layout": "IPY_MODEL_85c3291aca3c488f941db3f2bb286c69"
          }
        },
        "b2f0bc2f683d424280ab940105fa33fc": {
          "model_module": "@jupyter-widgets/controls",
          "model_name": "HTMLModel",
          "model_module_version": "1.5.0",
          "state": {
            "_view_name": "HTMLView",
            "style": "IPY_MODEL_4a48636b228a4309906f11879ccdcd33",
            "_dom_classes": [],
            "description": "",
            "_model_name": "HTMLModel",
            "placeholder": "​",
            "_view_module": "@jupyter-widgets/controls",
            "_model_module_version": "1.5.0",
            "value": " [100%]   00:01 -&gt; (00:00 left)",
            "_view_count": null,
            "_view_module_version": "1.5.0",
            "description_tooltip": null,
            "_model_module": "@jupyter-widgets/controls",
            "layout": "IPY_MODEL_5537fe72cf014eb2b8c5b363f4d2076f"
          }
        },
        "3f231089ccfc425ca280113f7435c553": {
          "model_module": "@jupyter-widgets/controls",
          "model_name": "DescriptionStyleModel",
          "model_module_version": "1.5.0",
          "state": {
            "_view_name": "StyleView",
            "_model_name": "DescriptionStyleModel",
            "description_width": "",
            "_view_module": "@jupyter-widgets/base",
            "_model_module_version": "1.5.0",
            "_view_count": null,
            "_view_module_version": "1.2.0",
            "_model_module": "@jupyter-widgets/controls"
          }
        },
        "cfd6e0b0755646ffab0a3ffdb19f1ef5": {
          "model_module": "@jupyter-widgets/base",
          "model_name": "LayoutModel",
          "model_module_version": "1.2.0",
          "state": {
            "_view_name": "LayoutView",
            "grid_template_rows": null,
            "right": null,
            "justify_content": null,
            "_view_module": "@jupyter-widgets/base",
            "overflow": null,
            "_model_module_version": "1.2.0",
            "_view_count": null,
            "flex_flow": null,
            "width": null,
            "min_width": null,
            "border": null,
            "align_items": null,
            "bottom": null,
            "_model_module": "@jupyter-widgets/base",
            "top": null,
            "grid_column": null,
            "overflow_y": null,
            "overflow_x": null,
            "grid_auto_flow": null,
            "grid_area": null,
            "grid_template_columns": null,
            "flex": null,
            "_model_name": "LayoutModel",
            "justify_items": null,
            "grid_row": null,
            "max_height": null,
            "align_content": null,
            "visibility": null,
            "align_self": null,
            "height": null,
            "min_height": null,
            "padding": null,
            "grid_auto_rows": null,
            "grid_gap": null,
            "max_width": null,
            "order": null,
            "_view_module_version": "1.2.0",
            "grid_template_areas": null,
            "object_position": null,
            "object_fit": null,
            "grid_auto_columns": null,
            "margin": null,
            "display": null,
            "left": null
          }
        },
        "f37f137ba9b947d0a49f5e702a2376f0": {
          "model_module": "@jupyter-widgets/controls",
          "model_name": "ProgressStyleModel",
          "model_module_version": "1.5.0",
          "state": {
            "_view_name": "StyleView",
            "_model_name": "ProgressStyleModel",
            "description_width": "",
            "_view_module": "@jupyter-widgets/base",
            "_model_module_version": "1.5.0",
            "_view_count": null,
            "_view_module_version": "1.2.0",
            "bar_color": null,
            "_model_module": "@jupyter-widgets/controls"
          }
        },
        "85c3291aca3c488f941db3f2bb286c69": {
          "model_module": "@jupyter-widgets/base",
          "model_name": "LayoutModel",
          "model_module_version": "1.2.0",
          "state": {
            "_view_name": "LayoutView",
            "grid_template_rows": null,
            "right": null,
            "justify_content": null,
            "_view_module": "@jupyter-widgets/base",
            "overflow": null,
            "_model_module_version": "1.2.0",
            "_view_count": null,
            "flex_flow": null,
            "width": null,
            "min_width": null,
            "border": null,
            "align_items": null,
            "bottom": null,
            "_model_module": "@jupyter-widgets/base",
            "top": null,
            "grid_column": null,
            "overflow_y": null,
            "overflow_x": null,
            "grid_auto_flow": null,
            "grid_area": null,
            "grid_template_columns": null,
            "flex": "2",
            "_model_name": "LayoutModel",
            "justify_items": null,
            "grid_row": null,
            "max_height": null,
            "align_content": null,
            "visibility": null,
            "align_self": null,
            "height": null,
            "min_height": null,
            "padding": null,
            "grid_auto_rows": null,
            "grid_gap": null,
            "max_width": null,
            "order": null,
            "_view_module_version": "1.2.0",
            "grid_template_areas": null,
            "object_position": null,
            "object_fit": null,
            "grid_auto_columns": null,
            "margin": null,
            "display": null,
            "left": null
          }
        },
        "4a48636b228a4309906f11879ccdcd33": {
          "model_module": "@jupyter-widgets/controls",
          "model_name": "DescriptionStyleModel",
          "model_module_version": "1.5.0",
          "state": {
            "_view_name": "StyleView",
            "_model_name": "DescriptionStyleModel",
            "description_width": "",
            "_view_module": "@jupyter-widgets/base",
            "_model_module_version": "1.5.0",
            "_view_count": null,
            "_view_module_version": "1.2.0",
            "_model_module": "@jupyter-widgets/controls"
          }
        },
        "5537fe72cf014eb2b8c5b363f4d2076f": {
          "model_module": "@jupyter-widgets/base",
          "model_name": "LayoutModel",
          "model_module_version": "1.2.0",
          "state": {
            "_view_name": "LayoutView",
            "grid_template_rows": null,
            "right": null,
            "justify_content": null,
            "_view_module": "@jupyter-widgets/base",
            "overflow": null,
            "_model_module_version": "1.2.0",
            "_view_count": null,
            "flex_flow": null,
            "width": null,
            "min_width": null,
            "border": null,
            "align_items": null,
            "bottom": null,
            "_model_module": "@jupyter-widgets/base",
            "top": null,
            "grid_column": null,
            "overflow_y": null,
            "overflow_x": null,
            "grid_auto_flow": null,
            "grid_area": null,
            "grid_template_columns": null,
            "flex": null,
            "_model_name": "LayoutModel",
            "justify_items": null,
            "grid_row": null,
            "max_height": null,
            "align_content": null,
            "visibility": null,
            "align_self": null,
            "height": null,
            "min_height": null,
            "padding": null,
            "grid_auto_rows": null,
            "grid_gap": null,
            "max_width": null,
            "order": null,
            "_view_module_version": "1.2.0",
            "grid_template_areas": null,
            "object_position": null,
            "object_fit": null,
            "grid_auto_columns": null,
            "margin": null,
            "display": null,
            "left": null
          }
        }
      }
    }
  },
  "nbformat": 4,
  "nbformat_minor": 0
}